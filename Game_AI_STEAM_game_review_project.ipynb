{
  "nbformat": 4,
  "nbformat_minor": 0,
  "metadata": {
    "colab": {
      "name": "Game AI STEAM game review project",
      "provenance": [],
      "collapsed_sections": [],
      "include_colab_link": true
    },
    "kernelspec": {
      "name": "python3",
      "display_name": "Python 3"
    },
    "accelerator": "GPU"
  },
  "cells": [
    {
      "cell_type": "markdown",
      "metadata": {
        "id": "view-in-github",
        "colab_type": "text"
      },
      "source": [
        "<a href=\"https://colab.research.google.com/github/sxzeu/AI/blob/main/Game_AI_STEAM_game_review_project.ipynb\" target=\"_parent\"><img src=\"https://colab.research.google.com/assets/colab-badge.svg\" alt=\"Open In Colab\"/></a>"
      ]
    },
    {
      "cell_type": "markdown",
      "metadata": {
        "id": "0vPHXXbQ3Kcs"
      },
      "source": [
        "게임소프트웨어 전공 박정윤 게임인공지능 기말프로젝트입니다.\n",
        "아래 링크의 네이버 영화평 데이터를 이용한 한국어 감성분석 프로젝트에 기초해 프로젝트를 진행했습니다."
      ]
    },
    {
      "cell_type": "markdown",
      "metadata": {
        "id": "iOYvI79S4Ier"
      },
      "source": [
        "링크 : https://wikidocs.net/44249"
      ]
    },
    {
      "cell_type": "code",
      "metadata": {
        "colab": {
          "base_uri": "https://localhost:8080/",
          "height": 35
        },
        "id": "vDohkPU33SJO",
        "outputId": "671b9944-3b0a-45b9-a4a1-127617fb4175"
      },
      "source": [
        "import tensorflow as tf\n",
        "tf.__version__"
      ],
      "execution_count": null,
      "outputs": [
        {
          "output_type": "execute_result",
          "data": {
            "application/vnd.google.colaboratory.intrinsic+json": {
              "type": "string"
            },
            "text/plain": [
              "'2.7.0'"
            ]
          },
          "metadata": {},
          "execution_count": 1
        }
      ]
    },
    {
      "cell_type": "code",
      "metadata": {
        "id": "c7QL7XFIkirk",
        "colab": {
          "base_uri": "https://localhost:8080/"
        },
        "outputId": "64d81744-f6de-4029-ab39-5a184a473fc3"
      },
      "source": [
        "pip install konlpy"
      ],
      "execution_count": null,
      "outputs": [
        {
          "output_type": "stream",
          "name": "stdout",
          "text": [
            "Collecting konlpy\n",
            "  Downloading konlpy-0.5.2-py2.py3-none-any.whl (19.4 MB)\n",
            "\u001b[K     |████████████████████████████████| 19.4 MB 3.4 MB/s \n",
            "\u001b[?25hCollecting colorama\n",
            "  Downloading colorama-0.4.4-py2.py3-none-any.whl (16 kB)\n",
            "Collecting beautifulsoup4==4.6.0\n",
            "  Downloading beautifulsoup4-4.6.0-py3-none-any.whl (86 kB)\n",
            "\u001b[K     |████████████████████████████████| 86 kB 2.2 MB/s \n",
            "\u001b[?25hRequirement already satisfied: tweepy>=3.7.0 in /usr/local/lib/python3.7/dist-packages (from konlpy) (3.10.0)\n",
            "Collecting JPype1>=0.7.0\n",
            "  Downloading JPype1-1.3.0-cp37-cp37m-manylinux_2_5_x86_64.manylinux1_x86_64.whl (448 kB)\n",
            "\u001b[K     |████████████████████████████████| 448 kB 33.0 MB/s \n",
            "\u001b[?25hRequirement already satisfied: numpy>=1.6 in /usr/local/lib/python3.7/dist-packages (from konlpy) (1.19.5)\n",
            "Requirement already satisfied: lxml>=4.1.0 in /usr/local/lib/python3.7/dist-packages (from konlpy) (4.2.6)\n",
            "Requirement already satisfied: typing-extensions in /usr/local/lib/python3.7/dist-packages (from JPype1>=0.7.0->konlpy) (3.10.0.2)\n",
            "Requirement already satisfied: six>=1.10.0 in /usr/local/lib/python3.7/dist-packages (from tweepy>=3.7.0->konlpy) (1.15.0)\n",
            "Requirement already satisfied: requests-oauthlib>=0.7.0 in /usr/local/lib/python3.7/dist-packages (from tweepy>=3.7.0->konlpy) (1.3.0)\n",
            "Requirement already satisfied: requests[socks]>=2.11.1 in /usr/local/lib/python3.7/dist-packages (from tweepy>=3.7.0->konlpy) (2.23.0)\n",
            "Requirement already satisfied: oauthlib>=3.0.0 in /usr/local/lib/python3.7/dist-packages (from requests-oauthlib>=0.7.0->tweepy>=3.7.0->konlpy) (3.1.1)\n",
            "Requirement already satisfied: idna<3,>=2.5 in /usr/local/lib/python3.7/dist-packages (from requests[socks]>=2.11.1->tweepy>=3.7.0->konlpy) (2.10)\n",
            "Requirement already satisfied: urllib3!=1.25.0,!=1.25.1,<1.26,>=1.21.1 in /usr/local/lib/python3.7/dist-packages (from requests[socks]>=2.11.1->tweepy>=3.7.0->konlpy) (1.24.3)\n",
            "Requirement already satisfied: chardet<4,>=3.0.2 in /usr/local/lib/python3.7/dist-packages (from requests[socks]>=2.11.1->tweepy>=3.7.0->konlpy) (3.0.4)\n",
            "Requirement already satisfied: certifi>=2017.4.17 in /usr/local/lib/python3.7/dist-packages (from requests[socks]>=2.11.1->tweepy>=3.7.0->konlpy) (2021.10.8)\n",
            "Requirement already satisfied: PySocks!=1.5.7,>=1.5.6 in /usr/local/lib/python3.7/dist-packages (from requests[socks]>=2.11.1->tweepy>=3.7.0->konlpy) (1.7.1)\n",
            "Installing collected packages: JPype1, colorama, beautifulsoup4, konlpy\n",
            "  Attempting uninstall: beautifulsoup4\n",
            "    Found existing installation: beautifulsoup4 4.6.3\n",
            "    Uninstalling beautifulsoup4-4.6.3:\n",
            "      Successfully uninstalled beautifulsoup4-4.6.3\n",
            "Successfully installed JPype1-1.3.0 beautifulsoup4-4.6.0 colorama-0.4.4 konlpy-0.5.2\n"
          ]
        }
      ]
    },
    {
      "cell_type": "markdown",
      "source": [
        "# 1. 스팀 게임리뷰 데이터 전처리"
      ],
      "metadata": {
        "id": "sOcJ4cagbpzz"
      }
    },
    {
      "cell_type": "code",
      "metadata": {
        "id": "NbRPURtckS0U"
      },
      "source": [
        "import pandas as pd\n",
        "import urllib.request\n",
        "import matplotlib.pyplot as plt\n",
        "import re\n",
        "from konlpy.tag import Okt\n",
        "from tqdm import tqdm\n",
        "from tensorflow.keras.preprocessing.text import Tokenizer\n",
        "import numpy as np\n",
        "from tensorflow.keras.preprocessing.sequence import pad_sequences\n"
      ],
      "execution_count": null,
      "outputs": []
    },
    {
      "cell_type": "code",
      "metadata": {
        "id": "WAL6cIYwkNqm",
        "colab": {
          "base_uri": "https://localhost:8080/"
        },
        "outputId": "8245bd87-a377-44ac-9721-7a7386e91558"
      },
      "source": [
        "urllib.request.urlretrieve(\"https://raw.githubusercontent.com/sxzeu/AlgorithmStudy/main/gameai/dataset_2.txt\", filename=\"dataset_2.txt\")\n",
        "urllib.request.urlretrieve(\"https://raw.githubusercontent.com/sxzeu/AlgorithmStudy/main/gameai/dataset_1.txt\", filename=\"dataset_1.txt\")"
      ],
      "execution_count": null,
      "outputs": [
        {
          "output_type": "execute_result",
          "data": {
            "text/plain": [
              "('dataset_1.txt', <http.client.HTTPMessage at 0x7f6608c01e90>)"
            ]
          },
          "metadata": {},
          "execution_count": 4
        }
      ]
    },
    {
      "cell_type": "code",
      "metadata": {
        "id": "xUU91wXtkOpr"
      },
      "source": [
        "train_data = pd.read_table('dataset_2.txt',sep = '\\t', engine='python', encoding='utf-8')\n",
        "test_data = pd.read_table('dataset_1.txt',sep = '\\t',engine='python',encoding='utf-8')"
      ],
      "execution_count": null,
      "outputs": []
    },
    {
      "cell_type": "code",
      "metadata": {
        "id": "hv2WLeglkV0T",
        "colab": {
          "base_uri": "https://localhost:8080/"
        },
        "outputId": "14d1513a-2f38-49c3-9b33-5db0e389701d"
      },
      "source": [
        "print('훈련 샘플의 개수 :',len(train_data), train_data.shape) # 훈련용 리뷰 개수 출력\n",
        "print('테스트 샘플의 개수 :',len(test_data), test_data.shape) # 테스트용 리뷰 개수 출력\n",
        "print(train_data)\n",
        "print(test_data)"
      ],
      "execution_count": null,
      "outputs": [
        {
          "output_type": "stream",
          "name": "stdout",
          "text": [
            "훈련 샘플의 개수 : 500 (500, 3)\n",
            "테스트 샘플의 개수 : 300 (300, 3)\n",
            "     num                                             review  po/na\n",
            "0      1                                       좋은 포션 위대한 포션      1\n",
            "1      2  게임은 깔끔하게 잘 만들었으나 얻는 즐거움의 심도가 너무 옅다  가격 흥정은 너무 ...      0\n",
            "2      3                     제작과 판매 자체만으로 재밌게 할 수 있다면 추천한다       1\n",
            "3      4                                  메뉴판 보고 주문해 이 잡것들아      0\n",
            "4      5                                       응애 나 애기 포션상인      1\n",
            "..   ...                                                ...    ...\n",
            "495  496    발매되자마자 사는데 한글화가 아니어서 아쉽네요 빨리 정식 한글화좀 해주세요 개발자님       1\n",
            "496  497                                        아버지가 좋아하시네요      1\n",
            "497  498                                        똥겜은 아닌데 똥같음      0\n",
            "498  499                                좆같은 게임이다 하지만 계속하게된다      1\n",
            "499  500  지금 안사면 관 들어가기 전까지 후회합니다   당장 시작하세요   이번 정식 업데이...      1\n",
            "\n",
            "[500 rows x 3 columns]\n",
            "     num                                             review  po/na\n",
            "0      1  원래 주방장이 떠나고 돈벌이와 가게 확장에만 관심있는 젊은 사업가가 들어온 단골가게...      0\n",
            "1      2                                             개씨발련들아      0\n",
            "2      3                                   배틀필드는 1에서 끝났다         0\n",
            "3      4                                이건 내가 알던 배틀필드가 아니야…      0\n",
            "4      5                               이걸 제값주고 산 내 인생이 레전드다      0\n",
            "..   ...                                                ...    ...\n",
            "295  296                                       패치가 아쉽지만 재밌다      1\n",
            "296  297                                          아직도 얼리억세스      0\n",
            "297  298                                            갖다버릴 게임      0\n",
            "298  299                                    버그가 넘쳐난다 근데 할만함      0\n",
            "299  300                                   솔직히 뭐가 재밌는지 모르겠다      0\n",
            "\n",
            "[300 rows x 3 columns]\n"
          ]
        }
      ]
    },
    {
      "cell_type": "code",
      "metadata": {
        "id": "a3qpECZ5nFX8",
        "colab": {
          "base_uri": "https://localhost:8080/",
          "height": 206
        },
        "outputId": "ac9e9f5c-e698-4cbf-d2ad-a41abd04e15b"
      },
      "source": [
        "train_data[:5] # 상위 5개 출력"
      ],
      "execution_count": null,
      "outputs": [
        {
          "output_type": "execute_result",
          "data": {
            "text/html": [
              "\n",
              "  <div id=\"df-9eb644df-bb83-4d86-a28c-62e8851febf2\">\n",
              "    <div class=\"colab-df-container\">\n",
              "      <div>\n",
              "<style scoped>\n",
              "    .dataframe tbody tr th:only-of-type {\n",
              "        vertical-align: middle;\n",
              "    }\n",
              "\n",
              "    .dataframe tbody tr th {\n",
              "        vertical-align: top;\n",
              "    }\n",
              "\n",
              "    .dataframe thead th {\n",
              "        text-align: right;\n",
              "    }\n",
              "</style>\n",
              "<table border=\"1\" class=\"dataframe\">\n",
              "  <thead>\n",
              "    <tr style=\"text-align: right;\">\n",
              "      <th></th>\n",
              "      <th>num</th>\n",
              "      <th>review</th>\n",
              "      <th>po/na</th>\n",
              "    </tr>\n",
              "  </thead>\n",
              "  <tbody>\n",
              "    <tr>\n",
              "      <th>0</th>\n",
              "      <td>1</td>\n",
              "      <td>좋은 포션 위대한 포션</td>\n",
              "      <td>1</td>\n",
              "    </tr>\n",
              "    <tr>\n",
              "      <th>1</th>\n",
              "      <td>2</td>\n",
              "      <td>게임은 깔끔하게 잘 만들었으나 얻는 즐거움의 심도가 너무 옅다  가격 흥정은 너무 ...</td>\n",
              "      <td>0</td>\n",
              "    </tr>\n",
              "    <tr>\n",
              "      <th>2</th>\n",
              "      <td>3</td>\n",
              "      <td>제작과 판매 자체만으로 재밌게 할 수 있다면 추천한다</td>\n",
              "      <td>1</td>\n",
              "    </tr>\n",
              "    <tr>\n",
              "      <th>3</th>\n",
              "      <td>4</td>\n",
              "      <td>메뉴판 보고 주문해 이 잡것들아</td>\n",
              "      <td>0</td>\n",
              "    </tr>\n",
              "    <tr>\n",
              "      <th>4</th>\n",
              "      <td>5</td>\n",
              "      <td>응애 나 애기 포션상인</td>\n",
              "      <td>1</td>\n",
              "    </tr>\n",
              "  </tbody>\n",
              "</table>\n",
              "</div>\n",
              "      <button class=\"colab-df-convert\" onclick=\"convertToInteractive('df-9eb644df-bb83-4d86-a28c-62e8851febf2')\"\n",
              "              title=\"Convert this dataframe to an interactive table.\"\n",
              "              style=\"display:none;\">\n",
              "        \n",
              "  <svg xmlns=\"http://www.w3.org/2000/svg\" height=\"24px\"viewBox=\"0 0 24 24\"\n",
              "       width=\"24px\">\n",
              "    <path d=\"M0 0h24v24H0V0z\" fill=\"none\"/>\n",
              "    <path d=\"M18.56 5.44l.94 2.06.94-2.06 2.06-.94-2.06-.94-.94-2.06-.94 2.06-2.06.94zm-11 1L8.5 8.5l.94-2.06 2.06-.94-2.06-.94L8.5 2.5l-.94 2.06-2.06.94zm10 10l.94 2.06.94-2.06 2.06-.94-2.06-.94-.94-2.06-.94 2.06-2.06.94z\"/><path d=\"M17.41 7.96l-1.37-1.37c-.4-.4-.92-.59-1.43-.59-.52 0-1.04.2-1.43.59L10.3 9.45l-7.72 7.72c-.78.78-.78 2.05 0 2.83L4 21.41c.39.39.9.59 1.41.59.51 0 1.02-.2 1.41-.59l7.78-7.78 2.81-2.81c.8-.78.8-2.07 0-2.86zM5.41 20L4 18.59l7.72-7.72 1.47 1.35L5.41 20z\"/>\n",
              "  </svg>\n",
              "      </button>\n",
              "      \n",
              "  <style>\n",
              "    .colab-df-container {\n",
              "      display:flex;\n",
              "      flex-wrap:wrap;\n",
              "      gap: 12px;\n",
              "    }\n",
              "\n",
              "    .colab-df-convert {\n",
              "      background-color: #E8F0FE;\n",
              "      border: none;\n",
              "      border-radius: 50%;\n",
              "      cursor: pointer;\n",
              "      display: none;\n",
              "      fill: #1967D2;\n",
              "      height: 32px;\n",
              "      padding: 0 0 0 0;\n",
              "      width: 32px;\n",
              "    }\n",
              "\n",
              "    .colab-df-convert:hover {\n",
              "      background-color: #E2EBFA;\n",
              "      box-shadow: 0px 1px 2px rgba(60, 64, 67, 0.3), 0px 1px 3px 1px rgba(60, 64, 67, 0.15);\n",
              "      fill: #174EA6;\n",
              "    }\n",
              "\n",
              "    [theme=dark] .colab-df-convert {\n",
              "      background-color: #3B4455;\n",
              "      fill: #D2E3FC;\n",
              "    }\n",
              "\n",
              "    [theme=dark] .colab-df-convert:hover {\n",
              "      background-color: #434B5C;\n",
              "      box-shadow: 0px 1px 3px 1px rgba(0, 0, 0, 0.15);\n",
              "      filter: drop-shadow(0px 1px 2px rgba(0, 0, 0, 0.3));\n",
              "      fill: #FFFFFF;\n",
              "    }\n",
              "  </style>\n",
              "\n",
              "      <script>\n",
              "        const buttonEl =\n",
              "          document.querySelector('#df-9eb644df-bb83-4d86-a28c-62e8851febf2 button.colab-df-convert');\n",
              "        buttonEl.style.display =\n",
              "          google.colab.kernel.accessAllowed ? 'block' : 'none';\n",
              "\n",
              "        async function convertToInteractive(key) {\n",
              "          const element = document.querySelector('#df-9eb644df-bb83-4d86-a28c-62e8851febf2');\n",
              "          const dataTable =\n",
              "            await google.colab.kernel.invokeFunction('convertToInteractive',\n",
              "                                                     [key], {});\n",
              "          if (!dataTable) return;\n",
              "\n",
              "          const docLinkHtml = 'Like what you see? Visit the ' +\n",
              "            '<a target=\"_blank\" href=https://colab.research.google.com/notebooks/data_table.ipynb>data table notebook</a>'\n",
              "            + ' to learn more about interactive tables.';\n",
              "          element.innerHTML = '';\n",
              "          dataTable['output_type'] = 'display_data';\n",
              "          await google.colab.output.renderOutput(dataTable, element);\n",
              "          const docLink = document.createElement('div');\n",
              "          docLink.innerHTML = docLinkHtml;\n",
              "          element.appendChild(docLink);\n",
              "        }\n",
              "      </script>\n",
              "    </div>\n",
              "  </div>\n",
              "  "
            ],
            "text/plain": [
              "   num                                             review  po/na\n",
              "0    1                                       좋은 포션 위대한 포션      1\n",
              "1    2  게임은 깔끔하게 잘 만들었으나 얻는 즐거움의 심도가 너무 옅다  가격 흥정은 너무 ...      0\n",
              "2    3                     제작과 판매 자체만으로 재밌게 할 수 있다면 추천한다       1\n",
              "3    4                                  메뉴판 보고 주문해 이 잡것들아      0\n",
              "4    5                                       응애 나 애기 포션상인      1"
            ]
          },
          "metadata": {},
          "execution_count": 7
        }
      ]
    },
    {
      "cell_type": "code",
      "source": [
        "test_data[:5]"
      ],
      "metadata": {
        "colab": {
          "base_uri": "https://localhost:8080/",
          "height": 206
        },
        "id": "HwZ0aCOnI5jK",
        "outputId": "6426ea9c-83ad-4db8-bea3-ce2f807c3cce"
      },
      "execution_count": null,
      "outputs": [
        {
          "output_type": "execute_result",
          "data": {
            "text/html": [
              "\n",
              "  <div id=\"df-8e823f8d-68fa-42b2-b375-e84ff45f3939\">\n",
              "    <div class=\"colab-df-container\">\n",
              "      <div>\n",
              "<style scoped>\n",
              "    .dataframe tbody tr th:only-of-type {\n",
              "        vertical-align: middle;\n",
              "    }\n",
              "\n",
              "    .dataframe tbody tr th {\n",
              "        vertical-align: top;\n",
              "    }\n",
              "\n",
              "    .dataframe thead th {\n",
              "        text-align: right;\n",
              "    }\n",
              "</style>\n",
              "<table border=\"1\" class=\"dataframe\">\n",
              "  <thead>\n",
              "    <tr style=\"text-align: right;\">\n",
              "      <th></th>\n",
              "      <th>num</th>\n",
              "      <th>review</th>\n",
              "      <th>po/na</th>\n",
              "    </tr>\n",
              "  </thead>\n",
              "  <tbody>\n",
              "    <tr>\n",
              "      <th>0</th>\n",
              "      <td>1</td>\n",
              "      <td>원래 주방장이 떠나고 돈벌이와 가게 확장에만 관심있는 젊은 사업가가 들어온 단골가게...</td>\n",
              "      <td>0</td>\n",
              "    </tr>\n",
              "    <tr>\n",
              "      <th>1</th>\n",
              "      <td>2</td>\n",
              "      <td>개씨발련들아</td>\n",
              "      <td>0</td>\n",
              "    </tr>\n",
              "    <tr>\n",
              "      <th>2</th>\n",
              "      <td>3</td>\n",
              "      <td>배틀필드는 1에서 끝났다</td>\n",
              "      <td>0</td>\n",
              "    </tr>\n",
              "    <tr>\n",
              "      <th>3</th>\n",
              "      <td>4</td>\n",
              "      <td>이건 내가 알던 배틀필드가 아니야…</td>\n",
              "      <td>0</td>\n",
              "    </tr>\n",
              "    <tr>\n",
              "      <th>4</th>\n",
              "      <td>5</td>\n",
              "      <td>이걸 제값주고 산 내 인생이 레전드다</td>\n",
              "      <td>0</td>\n",
              "    </tr>\n",
              "  </tbody>\n",
              "</table>\n",
              "</div>\n",
              "      <button class=\"colab-df-convert\" onclick=\"convertToInteractive('df-8e823f8d-68fa-42b2-b375-e84ff45f3939')\"\n",
              "              title=\"Convert this dataframe to an interactive table.\"\n",
              "              style=\"display:none;\">\n",
              "        \n",
              "  <svg xmlns=\"http://www.w3.org/2000/svg\" height=\"24px\"viewBox=\"0 0 24 24\"\n",
              "       width=\"24px\">\n",
              "    <path d=\"M0 0h24v24H0V0z\" fill=\"none\"/>\n",
              "    <path d=\"M18.56 5.44l.94 2.06.94-2.06 2.06-.94-2.06-.94-.94-2.06-.94 2.06-2.06.94zm-11 1L8.5 8.5l.94-2.06 2.06-.94-2.06-.94L8.5 2.5l-.94 2.06-2.06.94zm10 10l.94 2.06.94-2.06 2.06-.94-2.06-.94-.94-2.06-.94 2.06-2.06.94z\"/><path d=\"M17.41 7.96l-1.37-1.37c-.4-.4-.92-.59-1.43-.59-.52 0-1.04.2-1.43.59L10.3 9.45l-7.72 7.72c-.78.78-.78 2.05 0 2.83L4 21.41c.39.39.9.59 1.41.59.51 0 1.02-.2 1.41-.59l7.78-7.78 2.81-2.81c.8-.78.8-2.07 0-2.86zM5.41 20L4 18.59l7.72-7.72 1.47 1.35L5.41 20z\"/>\n",
              "  </svg>\n",
              "      </button>\n",
              "      \n",
              "  <style>\n",
              "    .colab-df-container {\n",
              "      display:flex;\n",
              "      flex-wrap:wrap;\n",
              "      gap: 12px;\n",
              "    }\n",
              "\n",
              "    .colab-df-convert {\n",
              "      background-color: #E8F0FE;\n",
              "      border: none;\n",
              "      border-radius: 50%;\n",
              "      cursor: pointer;\n",
              "      display: none;\n",
              "      fill: #1967D2;\n",
              "      height: 32px;\n",
              "      padding: 0 0 0 0;\n",
              "      width: 32px;\n",
              "    }\n",
              "\n",
              "    .colab-df-convert:hover {\n",
              "      background-color: #E2EBFA;\n",
              "      box-shadow: 0px 1px 2px rgba(60, 64, 67, 0.3), 0px 1px 3px 1px rgba(60, 64, 67, 0.15);\n",
              "      fill: #174EA6;\n",
              "    }\n",
              "\n",
              "    [theme=dark] .colab-df-convert {\n",
              "      background-color: #3B4455;\n",
              "      fill: #D2E3FC;\n",
              "    }\n",
              "\n",
              "    [theme=dark] .colab-df-convert:hover {\n",
              "      background-color: #434B5C;\n",
              "      box-shadow: 0px 1px 3px 1px rgba(0, 0, 0, 0.15);\n",
              "      filter: drop-shadow(0px 1px 2px rgba(0, 0, 0, 0.3));\n",
              "      fill: #FFFFFF;\n",
              "    }\n",
              "  </style>\n",
              "\n",
              "      <script>\n",
              "        const buttonEl =\n",
              "          document.querySelector('#df-8e823f8d-68fa-42b2-b375-e84ff45f3939 button.colab-df-convert');\n",
              "        buttonEl.style.display =\n",
              "          google.colab.kernel.accessAllowed ? 'block' : 'none';\n",
              "\n",
              "        async function convertToInteractive(key) {\n",
              "          const element = document.querySelector('#df-8e823f8d-68fa-42b2-b375-e84ff45f3939');\n",
              "          const dataTable =\n",
              "            await google.colab.kernel.invokeFunction('convertToInteractive',\n",
              "                                                     [key], {});\n",
              "          if (!dataTable) return;\n",
              "\n",
              "          const docLinkHtml = 'Like what you see? Visit the ' +\n",
              "            '<a target=\"_blank\" href=https://colab.research.google.com/notebooks/data_table.ipynb>data table notebook</a>'\n",
              "            + ' to learn more about interactive tables.';\n",
              "          element.innerHTML = '';\n",
              "          dataTable['output_type'] = 'display_data';\n",
              "          await google.colab.output.renderOutput(dataTable, element);\n",
              "          const docLink = document.createElement('div');\n",
              "          docLink.innerHTML = docLinkHtml;\n",
              "          element.appendChild(docLink);\n",
              "        }\n",
              "      </script>\n",
              "    </div>\n",
              "  </div>\n",
              "  "
            ],
            "text/plain": [
              "   num                                             review  po/na\n",
              "0    1  원래 주방장이 떠나고 돈벌이와 가게 확장에만 관심있는 젊은 사업가가 들어온 단골가게...      0\n",
              "1    2                                             개씨발련들아      0\n",
              "2    3                                   배틀필드는 1에서 끝났다         0\n",
              "3    4                                이건 내가 알던 배틀필드가 아니야…      0\n",
              "4    5                               이걸 제값주고 산 내 인생이 레전드다      0"
            ]
          },
          "metadata": {},
          "execution_count": 280
        }
      ]
    },
    {
      "cell_type": "code",
      "metadata": {
        "id": "lLx7QYcCnGkz",
        "colab": {
          "base_uri": "https://localhost:8080/"
        },
        "outputId": "569ef168-76b7-4f99-e4bf-5e123638e96e"
      },
      "source": [
        "train_data['review'].nunique(), train_data['po/na'].nunique()"
      ],
      "execution_count": null,
      "outputs": [
        {
          "output_type": "execute_result",
          "data": {
            "text/plain": [
              "(500, 2)"
            ]
          },
          "metadata": {},
          "execution_count": 8
        }
      ]
    },
    {
      "cell_type": "code",
      "metadata": {
        "id": "zLIrjosmnMUD"
      },
      "source": [
        "train_data.drop_duplicates(subset=['review'], inplace=True) # document 열에서 중복인 내용이 있다면 중복 제거"
      ],
      "execution_count": null,
      "outputs": []
    },
    {
      "cell_type": "code",
      "metadata": {
        "id": "yKGG3kAOnUEL",
        "colab": {
          "base_uri": "https://localhost:8080/"
        },
        "outputId": "51edf4a5-d47c-4139-8148-168a654f105d"
      },
      "source": [
        "print('총 샘플의 수 :',len(train_data))"
      ],
      "execution_count": null,
      "outputs": [
        {
          "output_type": "stream",
          "name": "stdout",
          "text": [
            "총 샘플의 수 : 500\n"
          ]
        }
      ]
    },
    {
      "cell_type": "markdown",
      "source": [
        ""
      ],
      "metadata": {
        "id": "tYBnTvRlr7bf"
      }
    },
    {
      "cell_type": "code",
      "metadata": {
        "id": "UjB5MxojnX5L",
        "colab": {
          "base_uri": "https://localhost:8080/",
          "height": 280
        },
        "outputId": "520a1a01-0c75-4716-8c8c-5c77ae7fcad3"
      },
      "source": [
        "train_data['po/na'].value_counts().plot(kind = 'bar')"
      ],
      "execution_count": null,
      "outputs": [
        {
          "output_type": "execute_result",
          "data": {
            "text/plain": [
              "<matplotlib.axes._subplots.AxesSubplot at 0x7f66086d5c90>"
            ]
          },
          "metadata": {},
          "execution_count": 11
        },
        {
          "output_type": "display_data",
          "data": {
            "image/png": "[encoded data removed]",
            "text/plain": [
              "<Figure size 432x288 with 1 Axes>"
            ]
          },
          "metadata": {
            "needs_background": "light"
          }
        }
      ]
    },
    {
      "cell_type": "code",
      "metadata": {
        "id": "14xix8ghnagT",
        "colab": {
          "base_uri": "https://localhost:8080/"
        },
        "outputId": "3d3845cd-b441-49a5-eb26-7d148d50c6dc"
      },
      "source": [
        "print(train_data.groupby('po/na').size().reset_index(name = 'count'))"
      ],
      "execution_count": null,
      "outputs": [
        {
          "output_type": "stream",
          "name": "stdout",
          "text": [
            "   po/na  count\n",
            "0      0    172\n",
            "1      1    328\n"
          ]
        }
      ]
    },
    {
      "cell_type": "code",
      "source": [
        "test_data['po/na'].value_counts().plot(kind = 'bar')"
      ],
      "metadata": {
        "colab": {
          "base_uri": "https://localhost:8080/",
          "height": 281
        },
        "id": "E3L-0abWrxn4",
        "outputId": "37abd7a3-dd74-48bf-b800-1d87108a3e1e"
      },
      "execution_count": null,
      "outputs": [
        {
          "output_type": "execute_result",
          "data": {
            "text/plain": [
              "<matplotlib.axes._subplots.AxesSubplot at 0x7f660868bf50>"
            ]
          },
          "metadata": {},
          "execution_count": 13
        },
        {
          "output_type": "display_data",
          "data": {
            "image/png": "[encoded data removed]",
            "text/plain": [
              "<Figure size 432x288 with 1 Axes>"
            ]
          },
          "metadata": {
            "needs_background": "light"
          }
        }
      ]
    },
    {
      "cell_type": "code",
      "source": [
        "print(test_data.groupby('po/na').size().reset_index(name = 'count'))"
      ],
      "metadata": {
        "colab": {
          "base_uri": "https://localhost:8080/"
        },
        "id": "4lsvortdr7k7",
        "outputId": "122d9186-b9ac-4df7-e87b-28539020cca0"
      },
      "execution_count": null,
      "outputs": [
        {
          "output_type": "stream",
          "name": "stdout",
          "text": [
            "   po/na  count\n",
            "0      0    146\n",
            "1      1    154\n"
          ]
        }
      ]
    },
    {
      "cell_type": "code",
      "metadata": {
        "id": "_8yXVmIRnbtb",
        "colab": {
          "base_uri": "https://localhost:8080/"
        },
        "outputId": "60dce639-e453-45d8-95be-522d7e7d8e4a"
      },
      "source": [
        "print(train_data.isnull().values.any())"
      ],
      "execution_count": null,
      "outputs": [
        {
          "output_type": "stream",
          "name": "stdout",
          "text": [
            "False\n"
          ]
        }
      ]
    },
    {
      "cell_type": "code",
      "metadata": {
        "id": "PwGZReKineYD",
        "colab": {
          "base_uri": "https://localhost:8080/"
        },
        "outputId": "5cdf9cb8-053f-43ea-948f-49b358e44ac7"
      },
      "source": [
        "print(train_data.isnull().sum())"
      ],
      "execution_count": null,
      "outputs": [
        {
          "output_type": "stream",
          "name": "stdout",
          "text": [
            "num       0\n",
            "review    0\n",
            "po/na     0\n",
            "dtype: int64\n"
          ]
        }
      ]
    },
    {
      "cell_type": "code",
      "metadata": {
        "id": "qzavofy6nfbT",
        "colab": {
          "base_uri": "https://localhost:8080/",
          "height": 49
        },
        "outputId": "bd48e493-0803-4f33-88a9-5a40a6af0feb"
      },
      "source": [
        "train_data.loc[train_data.review.isnull()]"
      ],
      "execution_count": null,
      "outputs": [
        {
          "output_type": "execute_result",
          "data": {
            "text/html": [
              "\n",
              "  <div id=\"df-94515b9f-eb7a-43f2-97ad-d55d2f188c8e\">\n",
              "    <div class=\"colab-df-container\">\n",
              "      <div>\n",
              "<style scoped>\n",
              "    .dataframe tbody tr th:only-of-type {\n",
              "        vertical-align: middle;\n",
              "    }\n",
              "\n",
              "    .dataframe tbody tr th {\n",
              "        vertical-align: top;\n",
              "    }\n",
              "\n",
              "    .dataframe thead th {\n",
              "        text-align: right;\n",
              "    }\n",
              "</style>\n",
              "<table border=\"1\" class=\"dataframe\">\n",
              "  <thead>\n",
              "    <tr style=\"text-align: right;\">\n",
              "      <th></th>\n",
              "      <th>num</th>\n",
              "      <th>review</th>\n",
              "      <th>po/na</th>\n",
              "    </tr>\n",
              "  </thead>\n",
              "  <tbody>\n",
              "  </tbody>\n",
              "</table>\n",
              "</div>\n",
              "      <button class=\"colab-df-convert\" onclick=\"convertToInteractive('df-94515b9f-eb7a-43f2-97ad-d55d2f188c8e')\"\n",
              "              title=\"Convert this dataframe to an interactive table.\"\n",
              "              style=\"display:none;\">\n",
              "        \n",
              "  <svg xmlns=\"http://www.w3.org/2000/svg\" height=\"24px\"viewBox=\"0 0 24 24\"\n",
              "       width=\"24px\">\n",
              "    <path d=\"M0 0h24v24H0V0z\" fill=\"none\"/>\n",
              "    <path d=\"M18.56 5.44l.94 2.06.94-2.06 2.06-.94-2.06-.94-.94-2.06-.94 2.06-2.06.94zm-11 1L8.5 8.5l.94-2.06 2.06-.94-2.06-.94L8.5 2.5l-.94 2.06-2.06.94zm10 10l.94 2.06.94-2.06 2.06-.94-2.06-.94-.94-2.06-.94 2.06-2.06.94z\"/><path d=\"M17.41 7.96l-1.37-1.37c-.4-.4-.92-.59-1.43-.59-.52 0-1.04.2-1.43.59L10.3 9.45l-7.72 7.72c-.78.78-.78 2.05 0 2.83L4 21.41c.39.39.9.59 1.41.59.51 0 1.02-.2 1.41-.59l7.78-7.78 2.81-2.81c.8-.78.8-2.07 0-2.86zM5.41 20L4 18.59l7.72-7.72 1.47 1.35L5.41 20z\"/>\n",
              "  </svg>\n",
              "      </button>\n",
              "      \n",
              "  <style>\n",
              "    .colab-df-container {\n",
              "      display:flex;\n",
              "      flex-wrap:wrap;\n",
              "      gap: 12px;\n",
              "    }\n",
              "\n",
              "    .colab-df-convert {\n",
              "      background-color: #E8F0FE;\n",
              "      border: none;\n",
              "      border-radius: 50%;\n",
              "      cursor: pointer;\n",
              "      display: none;\n",
              "      fill: #1967D2;\n",
              "      height: 32px;\n",
              "      padding: 0 0 0 0;\n",
              "      width: 32px;\n",
              "    }\n",
              "\n",
              "    .colab-df-convert:hover {\n",
              "      background-color: #E2EBFA;\n",
              "      box-shadow: 0px 1px 2px rgba(60, 64, 67, 0.3), 0px 1px 3px 1px rgba(60, 64, 67, 0.15);\n",
              "      fill: #174EA6;\n",
              "    }\n",
              "\n",
              "    [theme=dark] .colab-df-convert {\n",
              "      background-color: #3B4455;\n",
              "      fill: #D2E3FC;\n",
              "    }\n",
              "\n",
              "    [theme=dark] .colab-df-convert:hover {\n",
              "      background-color: #434B5C;\n",
              "      box-shadow: 0px 1px 3px 1px rgba(0, 0, 0, 0.15);\n",
              "      filter: drop-shadow(0px 1px 2px rgba(0, 0, 0, 0.3));\n",
              "      fill: #FFFFFF;\n",
              "    }\n",
              "  </style>\n",
              "\n",
              "      <script>\n",
              "        const buttonEl =\n",
              "          document.querySelector('#df-94515b9f-eb7a-43f2-97ad-d55d2f188c8e button.colab-df-convert');\n",
              "        buttonEl.style.display =\n",
              "          google.colab.kernel.accessAllowed ? 'block' : 'none';\n",
              "\n",
              "        async function convertToInteractive(key) {\n",
              "          const element = document.querySelector('#df-94515b9f-eb7a-43f2-97ad-d55d2f188c8e');\n",
              "          const dataTable =\n",
              "            await google.colab.kernel.invokeFunction('convertToInteractive',\n",
              "                                                     [key], {});\n",
              "          if (!dataTable) return;\n",
              "\n",
              "          const docLinkHtml = 'Like what you see? Visit the ' +\n",
              "            '<a target=\"_blank\" href=https://colab.research.google.com/notebooks/data_table.ipynb>data table notebook</a>'\n",
              "            + ' to learn more about interactive tables.';\n",
              "          element.innerHTML = '';\n",
              "          dataTable['output_type'] = 'display_data';\n",
              "          await google.colab.output.renderOutput(dataTable, element);\n",
              "          const docLink = document.createElement('div');\n",
              "          docLink.innerHTML = docLinkHtml;\n",
              "          element.appendChild(docLink);\n",
              "        }\n",
              "      </script>\n",
              "    </div>\n",
              "  </div>\n",
              "  "
            ],
            "text/plain": [
              "Empty DataFrame\n",
              "Columns: [num, review, po/na]\n",
              "Index: []"
            ]
          },
          "metadata": {},
          "execution_count": 17
        }
      ]
    },
    {
      "cell_type": "code",
      "metadata": {
        "id": "GuRqUGURnhZj",
        "colab": {
          "base_uri": "https://localhost:8080/"
        },
        "outputId": "05378bfe-0560-4b96-d184-e317b0789477"
      },
      "source": [
        "train_data = train_data.dropna(how = 'any') # Null 값이 존재하는 행 제거\n",
        "print(train_data.isnull().values.any()) # Null 값이 존재하는지 확인"
      ],
      "execution_count": null,
      "outputs": [
        {
          "output_type": "stream",
          "name": "stdout",
          "text": [
            "False\n"
          ]
        }
      ]
    },
    {
      "cell_type": "code",
      "metadata": {
        "id": "MQmWzwSqnlG7",
        "colab": {
          "base_uri": "https://localhost:8080/"
        },
        "outputId": "27a977f9-a8cf-4136-9321-6ba1b7c456b5"
      },
      "source": [
        "print(len(train_data))"
      ],
      "execution_count": null,
      "outputs": [
        {
          "output_type": "stream",
          "name": "stdout",
          "text": [
            "500\n"
          ]
        }
      ]
    },
    {
      "cell_type": "code",
      "metadata": {
        "id": "yP6uj9BxnmNj",
        "colab": {
          "base_uri": "https://localhost:8080/",
          "height": 206
        },
        "outputId": "fa51f03b-c697-4fa1-b18b-89acc8a9500f"
      },
      "source": [
        "train_data['review'] = train_data['review'].str.replace(\"[^ㄱ-ㅎㅏ-ㅣ가-힣 ]\",\"\")\n",
        "# 한글과 공백을 제외하고 모두 제거\n",
        "train_data[:5]"
      ],
      "execution_count": null,
      "outputs": [
        {
          "output_type": "execute_result",
          "data": {
            "text/html": [
              "\n",
              "  <div id=\"df-f2bf607e-f331-4b93-b799-790cad195306\">\n",
              "    <div class=\"colab-df-container\">\n",
              "      <div>\n",
              "<style scoped>\n",
              "    .dataframe tbody tr th:only-of-type {\n",
              "        vertical-align: middle;\n",
              "    }\n",
              "\n",
              "    .dataframe tbody tr th {\n",
              "        vertical-align: top;\n",
              "    }\n",
              "\n",
              "    .dataframe thead th {\n",
              "        text-align: right;\n",
              "    }\n",
              "</style>\n",
              "<table border=\"1\" class=\"dataframe\">\n",
              "  <thead>\n",
              "    <tr style=\"text-align: right;\">\n",
              "      <th></th>\n",
              "      <th>num</th>\n",
              "      <th>review</th>\n",
              "      <th>po/na</th>\n",
              "    </tr>\n",
              "  </thead>\n",
              "  <tbody>\n",
              "    <tr>\n",
              "      <th>0</th>\n",
              "      <td>1</td>\n",
              "      <td>좋은 포션 위대한 포션</td>\n",
              "      <td>1</td>\n",
              "    </tr>\n",
              "    <tr>\n",
              "      <th>1</th>\n",
              "      <td>2</td>\n",
              "      <td>게임은 깔끔하게 잘 만들었으나 얻는 즐거움의 심도가 너무 옅다  가격 흥정은 너무 ...</td>\n",
              "      <td>0</td>\n",
              "    </tr>\n",
              "    <tr>\n",
              "      <th>2</th>\n",
              "      <td>3</td>\n",
              "      <td>제작과 판매 자체만으로 재밌게 할 수 있다면 추천한다</td>\n",
              "      <td>1</td>\n",
              "    </tr>\n",
              "    <tr>\n",
              "      <th>3</th>\n",
              "      <td>4</td>\n",
              "      <td>메뉴판 보고 주문해 이 잡것들아</td>\n",
              "      <td>0</td>\n",
              "    </tr>\n",
              "    <tr>\n",
              "      <th>4</th>\n",
              "      <td>5</td>\n",
              "      <td>응애 나 애기 포션상인</td>\n",
              "      <td>1</td>\n",
              "    </tr>\n",
              "  </tbody>\n",
              "</table>\n",
              "</div>\n",
              "      <button class=\"colab-df-convert\" onclick=\"convertToInteractive('df-f2bf607e-f331-4b93-b799-790cad195306')\"\n",
              "              title=\"Convert this dataframe to an interactive table.\"\n",
              "              style=\"display:none;\">\n",
              "        \n",
              "  <svg xmlns=\"http://www.w3.org/2000/svg\" height=\"24px\"viewBox=\"0 0 24 24\"\n",
              "       width=\"24px\">\n",
              "    <path d=\"M0 0h24v24H0V0z\" fill=\"none\"/>\n",
              "    <path d=\"M18.56 5.44l.94 2.06.94-2.06 2.06-.94-2.06-.94-.94-2.06-.94 2.06-2.06.94zm-11 1L8.5 8.5l.94-2.06 2.06-.94-2.06-.94L8.5 2.5l-.94 2.06-2.06.94zm10 10l.94 2.06.94-2.06 2.06-.94-2.06-.94-.94-2.06-.94 2.06-2.06.94z\"/><path d=\"M17.41 7.96l-1.37-1.37c-.4-.4-.92-.59-1.43-.59-.52 0-1.04.2-1.43.59L10.3 9.45l-7.72 7.72c-.78.78-.78 2.05 0 2.83L4 21.41c.39.39.9.59 1.41.59.51 0 1.02-.2 1.41-.59l7.78-7.78 2.81-2.81c.8-.78.8-2.07 0-2.86zM5.41 20L4 18.59l7.72-7.72 1.47 1.35L5.41 20z\"/>\n",
              "  </svg>\n",
              "      </button>\n",
              "      \n",
              "  <style>\n",
              "    .colab-df-container {\n",
              "      display:flex;\n",
              "      flex-wrap:wrap;\n",
              "      gap: 12px;\n",
              "    }\n",
              "\n",
              "    .colab-df-convert {\n",
              "      background-color: #E8F0FE;\n",
              "      border: none;\n",
              "      border-radius: 50%;\n",
              "      cursor: pointer;\n",
              "      display: none;\n",
              "      fill: #1967D2;\n",
              "      height: 32px;\n",
              "      padding: 0 0 0 0;\n",
              "      width: 32px;\n",
              "    }\n",
              "\n",
              "    .colab-df-convert:hover {\n",
              "      background-color: #E2EBFA;\n",
              "      box-shadow: 0px 1px 2px rgba(60, 64, 67, 0.3), 0px 1px 3px 1px rgba(60, 64, 67, 0.15);\n",
              "      fill: #174EA6;\n",
              "    }\n",
              "\n",
              "    [theme=dark] .colab-df-convert {\n",
              "      background-color: #3B4455;\n",
              "      fill: #D2E3FC;\n",
              "    }\n",
              "\n",
              "    [theme=dark] .colab-df-convert:hover {\n",
              "      background-color: #434B5C;\n",
              "      box-shadow: 0px 1px 3px 1px rgba(0, 0, 0, 0.15);\n",
              "      filter: drop-shadow(0px 1px 2px rgba(0, 0, 0, 0.3));\n",
              "      fill: #FFFFFF;\n",
              "    }\n",
              "  </style>\n",
              "\n",
              "      <script>\n",
              "        const buttonEl =\n",
              "          document.querySelector('#df-f2bf607e-f331-4b93-b799-790cad195306 button.colab-df-convert');\n",
              "        buttonEl.style.display =\n",
              "          google.colab.kernel.accessAllowed ? 'block' : 'none';\n",
              "\n",
              "        async function convertToInteractive(key) {\n",
              "          const element = document.querySelector('#df-f2bf607e-f331-4b93-b799-790cad195306');\n",
              "          const dataTable =\n",
              "            await google.colab.kernel.invokeFunction('convertToInteractive',\n",
              "                                                     [key], {});\n",
              "          if (!dataTable) return;\n",
              "\n",
              "          const docLinkHtml = 'Like what you see? Visit the ' +\n",
              "            '<a target=\"_blank\" href=https://colab.research.google.com/notebooks/data_table.ipynb>data table notebook</a>'\n",
              "            + ' to learn more about interactive tables.';\n",
              "          element.innerHTML = '';\n",
              "          dataTable['output_type'] = 'display_data';\n",
              "          await google.colab.output.renderOutput(dataTable, element);\n",
              "          const docLink = document.createElement('div');\n",
              "          docLink.innerHTML = docLinkHtml;\n",
              "          element.appendChild(docLink);\n",
              "        }\n",
              "      </script>\n",
              "    </div>\n",
              "  </div>\n",
              "  "
            ],
            "text/plain": [
              "   num                                             review  po/na\n",
              "0    1                                       좋은 포션 위대한 포션      1\n",
              "1    2  게임은 깔끔하게 잘 만들었으나 얻는 즐거움의 심도가 너무 옅다  가격 흥정은 너무 ...      0\n",
              "2    3                     제작과 판매 자체만으로 재밌게 할 수 있다면 추천한다       1\n",
              "3    4                                  메뉴판 보고 주문해 이 잡것들아      0\n",
              "4    5                                       응애 나 애기 포션상인      1"
            ]
          },
          "metadata": {},
          "execution_count": 20
        }
      ]
    },
    {
      "cell_type": "code",
      "metadata": {
        "id": "W1VTEzepnrDL",
        "colab": {
          "base_uri": "https://localhost:8080/"
        },
        "outputId": "bfd29f32-c571-4978-a949-cdba6048f747"
      },
      "source": [
        "train_data['review'] = train_data['review'].str.replace('^ +', \"\") # white space 데이터를 empty value로 변경\n",
        "train_data['review'].replace('', np.nan, inplace=True)\n",
        "print(train_data.isnull().sum())"
      ],
      "execution_count": null,
      "outputs": [
        {
          "output_type": "stream",
          "name": "stdout",
          "text": [
            "num       0\n",
            "review    0\n",
            "po/na     0\n",
            "dtype: int64\n"
          ]
        }
      ]
    },
    {
      "cell_type": "code",
      "metadata": {
        "id": "JQqu-K7ooQsU",
        "colab": {
          "base_uri": "https://localhost:8080/",
          "height": 49
        },
        "outputId": "e29bad0f-4bc6-4edd-b798-75c321b72e67"
      },
      "source": [
        "train_data.loc[train_data.review.isnull()][:5]"
      ],
      "execution_count": null,
      "outputs": [
        {
          "output_type": "execute_result",
          "data": {
            "text/html": [
              "\n",
              "  <div id=\"df-6b55bb12-f013-4b1d-9e0e-7dcdd825705b\">\n",
              "    <div class=\"colab-df-container\">\n",
              "      <div>\n",
              "<style scoped>\n",
              "    .dataframe tbody tr th:only-of-type {\n",
              "        vertical-align: middle;\n",
              "    }\n",
              "\n",
              "    .dataframe tbody tr th {\n",
              "        vertical-align: top;\n",
              "    }\n",
              "\n",
              "    .dataframe thead th {\n",
              "        text-align: right;\n",
              "    }\n",
              "</style>\n",
              "<table border=\"1\" class=\"dataframe\">\n",
              "  <thead>\n",
              "    <tr style=\"text-align: right;\">\n",
              "      <th></th>\n",
              "      <th>num</th>\n",
              "      <th>review</th>\n",
              "      <th>po/na</th>\n",
              "    </tr>\n",
              "  </thead>\n",
              "  <tbody>\n",
              "  </tbody>\n",
              "</table>\n",
              "</div>\n",
              "      <button class=\"colab-df-convert\" onclick=\"convertToInteractive('df-6b55bb12-f013-4b1d-9e0e-7dcdd825705b')\"\n",
              "              title=\"Convert this dataframe to an interactive table.\"\n",
              "              style=\"display:none;\">\n",
              "        \n",
              "  <svg xmlns=\"http://www.w3.org/2000/svg\" height=\"24px\"viewBox=\"0 0 24 24\"\n",
              "       width=\"24px\">\n",
              "    <path d=\"M0 0h24v24H0V0z\" fill=\"none\"/>\n",
              "    <path d=\"M18.56 5.44l.94 2.06.94-2.06 2.06-.94-2.06-.94-.94-2.06-.94 2.06-2.06.94zm-11 1L8.5 8.5l.94-2.06 2.06-.94-2.06-.94L8.5 2.5l-.94 2.06-2.06.94zm10 10l.94 2.06.94-2.06 2.06-.94-2.06-.94-.94-2.06-.94 2.06-2.06.94z\"/><path d=\"M17.41 7.96l-1.37-1.37c-.4-.4-.92-.59-1.43-.59-.52 0-1.04.2-1.43.59L10.3 9.45l-7.72 7.72c-.78.78-.78 2.05 0 2.83L4 21.41c.39.39.9.59 1.41.59.51 0 1.02-.2 1.41-.59l7.78-7.78 2.81-2.81c.8-.78.8-2.07 0-2.86zM5.41 20L4 18.59l7.72-7.72 1.47 1.35L5.41 20z\"/>\n",
              "  </svg>\n",
              "      </button>\n",
              "      \n",
              "  <style>\n",
              "    .colab-df-container {\n",
              "      display:flex;\n",
              "      flex-wrap:wrap;\n",
              "      gap: 12px;\n",
              "    }\n",
              "\n",
              "    .colab-df-convert {\n",
              "      background-color: #E8F0FE;\n",
              "      border: none;\n",
              "      border-radius: 50%;\n",
              "      cursor: pointer;\n",
              "      display: none;\n",
              "      fill: #1967D2;\n",
              "      height: 32px;\n",
              "      padding: 0 0 0 0;\n",
              "      width: 32px;\n",
              "    }\n",
              "\n",
              "    .colab-df-convert:hover {\n",
              "      background-color: #E2EBFA;\n",
              "      box-shadow: 0px 1px 2px rgba(60, 64, 67, 0.3), 0px 1px 3px 1px rgba(60, 64, 67, 0.15);\n",
              "      fill: #174EA6;\n",
              "    }\n",
              "\n",
              "    [theme=dark] .colab-df-convert {\n",
              "      background-color: #3B4455;\n",
              "      fill: #D2E3FC;\n",
              "    }\n",
              "\n",
              "    [theme=dark] .colab-df-convert:hover {\n",
              "      background-color: #434B5C;\n",
              "      box-shadow: 0px 1px 3px 1px rgba(0, 0, 0, 0.15);\n",
              "      filter: drop-shadow(0px 1px 2px rgba(0, 0, 0, 0.3));\n",
              "      fill: #FFFFFF;\n",
              "    }\n",
              "  </style>\n",
              "\n",
              "      <script>\n",
              "        const buttonEl =\n",
              "          document.querySelector('#df-6b55bb12-f013-4b1d-9e0e-7dcdd825705b button.colab-df-convert');\n",
              "        buttonEl.style.display =\n",
              "          google.colab.kernel.accessAllowed ? 'block' : 'none';\n",
              "\n",
              "        async function convertToInteractive(key) {\n",
              "          const element = document.querySelector('#df-6b55bb12-f013-4b1d-9e0e-7dcdd825705b');\n",
              "          const dataTable =\n",
              "            await google.colab.kernel.invokeFunction('convertToInteractive',\n",
              "                                                     [key], {});\n",
              "          if (!dataTable) return;\n",
              "\n",
              "          const docLinkHtml = 'Like what you see? Visit the ' +\n",
              "            '<a target=\"_blank\" href=https://colab.research.google.com/notebooks/data_table.ipynb>data table notebook</a>'\n",
              "            + ' to learn more about interactive tables.';\n",
              "          element.innerHTML = '';\n",
              "          dataTable['output_type'] = 'display_data';\n",
              "          await google.colab.output.renderOutput(dataTable, element);\n",
              "          const docLink = document.createElement('div');\n",
              "          docLink.innerHTML = docLinkHtml;\n",
              "          element.appendChild(docLink);\n",
              "        }\n",
              "      </script>\n",
              "    </div>\n",
              "  </div>\n",
              "  "
            ],
            "text/plain": [
              "Empty DataFrame\n",
              "Columns: [num, review, po/na]\n",
              "Index: []"
            ]
          },
          "metadata": {},
          "execution_count": 22
        }
      ]
    },
    {
      "cell_type": "code",
      "metadata": {
        "id": "2PjMgBhuoNKe"
      },
      "source": [
        "train_data = train_data.dropna(how = 'any')"
      ],
      "execution_count": null,
      "outputs": []
    },
    {
      "cell_type": "code",
      "metadata": {
        "id": "tYFtD15Zn_Di",
        "colab": {
          "base_uri": "https://localhost:8080/"
        },
        "outputId": "8bad9f4c-361d-41b7-bf12-a9b0768d3bc4"
      },
      "source": [
        "print(len(train_data))"
      ],
      "execution_count": null,
      "outputs": [
        {
          "output_type": "stream",
          "name": "stdout",
          "text": [
            "500\n"
          ]
        }
      ]
    },
    {
      "cell_type": "code",
      "metadata": {
        "id": "al5ilRRDodDy",
        "colab": {
          "base_uri": "https://localhost:8080/"
        },
        "outputId": "c49191e4-dbd1-458f-a682-8cedd35d6fda"
      },
      "source": [
        "test_data.drop_duplicates(subset = ['review'], inplace=True) # document 열에서 중복인 내용이 있다면 중복 제거\n",
        "test_data['review'] = test_data['review'].str.replace(\"[^ㄱ-ㅎㅏ-ㅣ가-힣 ]\",\"\") # 정규 표현식 수행\n",
        "test_data['review'] = test_data['review'].str.replace('^ +', \"\") # 공백은 empty 값으로 변경\n",
        "test_data['review'].replace('', np.nan, inplace=True) # 공백은 Null 값으로 변경\n",
        "test_data = test_data.dropna(how='any') # Null 값 제거\n",
        "print('전처리 후 테스트용 샘플의 개수 :',len(test_data))"
      ],
      "execution_count": null,
      "outputs": [
        {
          "output_type": "stream",
          "name": "stdout",
          "text": [
            "전처리 후 테스트용 샘플의 개수 : 296\n"
          ]
        }
      ]
    },
    {
      "cell_type": "code",
      "metadata": {
        "id": "g8fnrhryopII",
        "colab": {
          "base_uri": "https://localhost:8080/"
        },
        "outputId": "1ed8d5bd-14e1-4549-e5f4-aeabe15372b0"
      },
      "source": [
        "print('전처리 후 테스트용 샘플의 개수 :',len(test_data))"
      ],
      "execution_count": null,
      "outputs": [
        {
          "output_type": "stream",
          "name": "stdout",
          "text": [
            "전처리 후 테스트용 샘플의 개수 : 296\n"
          ]
        }
      ]
    },
    {
      "cell_type": "code",
      "metadata": {
        "id": "UPPf9sPjoBq7"
      },
      "source": [
        "stopwords = ['의','가','이','은','들','는','좀','잘','걍','과','도','를','으로','자','에','와','한','하다']"
      ],
      "execution_count": null,
      "outputs": []
    },
    {
      "cell_type": "code",
      "metadata": {
        "id": "fjfQaubRofR-"
      },
      "source": [
        "okt = Okt()"
      ],
      "execution_count": null,
      "outputs": []
    },
    {
      "cell_type": "code",
      "metadata": {
        "id": "dcsq7xc4obAj",
        "colab": {
          "base_uri": "https://localhost:8080/"
        },
        "outputId": "f78d433b-09e1-4ad7-9879-a3e604a14305"
      },
      "source": [
        "X_train = []\n",
        "for sentence in tqdm(train_data['review']):\n",
        "    tokenized_sentence = okt.morphs(sentence, stem=True) # 토큰화\n",
        "    stopwords_removed_sentence = [word for word in tokenized_sentence if not word in stopwords] # 불용어 제거\n",
        "    X_train.append(stopwords_removed_sentence)"
      ],
      "execution_count": null,
      "outputs": [
        {
          "output_type": "stream",
          "name": "stderr",
          "text": [
            "100%|██████████| 500/500 [00:18<00:00, 26.86it/s] \n"
          ]
        }
      ]
    },
    {
      "cell_type": "code",
      "metadata": {
        "id": "S-QH3hiAomYB",
        "colab": {
          "base_uri": "https://localhost:8080/"
        },
        "outputId": "b9ff4ad9-8c4b-41e4-d7fd-97979540c49a"
      },
      "source": [
        "X_test = []\n",
        "for sentence in tqdm(test_data['review']):\n",
        "    tokenized_sentence = okt.morphs(sentence, stem=True) # 토큰화\n",
        "    stopwords_removed_sentence = [word for word in tokenized_sentence if not word in stopwords] # 불용어 제거\n",
        "    X_test.append(stopwords_removed_sentence)"
      ],
      "execution_count": null,
      "outputs": [
        {
          "output_type": "stream",
          "name": "stderr",
          "text": [
            "100%|██████████| 296/296 [00:00<00:00, 372.04it/s]\n"
          ]
        }
      ]
    },
    {
      "cell_type": "code",
      "metadata": {
        "id": "AzPvb8HLpiQv",
        "colab": {
          "base_uri": "https://localhost:8080/"
        },
        "outputId": "4bad04b1-59f3-44f7-d5b0-025fa3cce4e0"
      },
      "source": [
        "print('전처리 후 테스트용 샘플의 개수 :',len(X_test))"
      ],
      "execution_count": null,
      "outputs": [
        {
          "output_type": "stream",
          "name": "stdout",
          "text": [
            "전처리 후 테스트용 샘플의 개수 : 296\n"
          ]
        }
      ]
    },
    {
      "cell_type": "code",
      "metadata": {
        "id": "vT71wLflpRVy"
      },
      "source": [
        "tokenizer = Tokenizer()\n",
        "tokenizer.fit_on_texts(X_train)"
      ],
      "execution_count": null,
      "outputs": []
    },
    {
      "cell_type": "code",
      "metadata": {
        "id": "hPfo_5xcqJcB",
        "colab": {
          "base_uri": "https://localhost:8080/"
        },
        "outputId": "9f748841-0ff0-474e-f79b-d7d00d8bfa20"
      },
      "source": [
        "print(tokenizer.word_index)"
      ],
      "execution_count": null,
      "outputs": [
        {
          "output_type": "stream",
          "name": "stdout",
          "text": [
            "{'게임': 1, '을': 2, '있다': 3, '재밌다': 4, '없다': 5, '좋다': 6, '되다': 7, '이다': 8, '않다': 9, '겜': 10, '아니다': 11, '것': 12, '친구': 13, '보다': 14, '해보다': 15, '적': 16, '재미있다': 17, '로': 18, '사람': 19, '같다': 20, '수': 21, '시간': 22, '다': 23, '에서': 24, '너무': 25, '더': 26, '때': 27, '고': 28, '재미': 29, '못': 30, '만': 31, '생각': 32, '추천': 33, '인': 34, '많다': 35, '안': 36, '플레이': 37, '나': 38, '정말': 39, '그래픽': 40, '하고': 41, '같이': 42, '갓': 43, '나오다': 44, '만들다': 45, '해주다': 46, '아직': 47, '까지': 48, '가다': 49, '모르다': 50, '거': 51, '들다': 52, '버그': 53, '좋아하다': 54, '돈': 55, '정도': 56, '제발': 57, '쉬움': 58, '함': 59, '즐기다': 60, '말': 61, '그냥': 62, '아': 63, '랑': 64, '되어다': 65, '사다': 66, '등': 67, '게': 68, '진짜': 69, '혼자': 70, '유저': 71, '면': 72, '내': 73, '저': 74, '분': 75, '핵': 76, '명작': 77, '세': 78, '느낌': 79, '자다': 80, '지금': 81, '죽다': 82, '치다': 83, '시작': 84, '처음': 85, '처럼': 86, '매우': 87, '어렵다': 88, '멀티': 89, '가능하다': 90, '개': 91, '노잼': 92, '임': 93, '부분': 94, '아깝다': 95, '이라고': 96, '이랑': 97, 'ㅡ': 98, '발': 99, '위': 100, '다른': 101, '어떻다': 102, '그': 103, '최고': 104, '싶다': 105, '짧다': 106, '서버': 107, '한번': 108, '다양하다': 109, '하': 110, '동물': 111, '먹다': 112, '때문': 113, '가격': 114, '떨어지다': 115, '자체': 116, '성': 117, '걸': 118, '구매': 119, '근데': 120, '안되다': 121, '요': 122, '오다': 123, '번': 124, '배': 125, '일': 126, '중': 127, '하나': 128, '쓰다': 129, '모든': 130, '귀엽다': 131, '다시': 132, '타다': 133, '비': 134, '이지만': 135, '많이': 136, '전': 137, '이나': 138, '한글화': 139, '높다': 140, '에게': 141, '약': 142, '끄다': 143, '멀미': 144, '아주': 145, '비싸다': 146, '필요하다': 147, '보고': 148, '상': 149, 'ㄹㅇ': 150, '초반': 151, '일단': 152, '이상': 153, '스토리': 154, '추가': 155, '알다': 156, '업데이트': 157, '뉴비': 158, '한글패치': 159, '아쉽다': 160, '조금': 161, '도전': 162, '명': 163, '넘다': 164, '이고': 165, '먼저': 166, '진행': 167, '지': 168, '받다': 169, '좆': 170, '난이도': 171, '추억': 172, '맛': 173, '갖추다': 174, '그렇다': 175, '인생': 176, '쯤': 177, '다르다': 178, '잼': 179, '편': 180, '씩': 181, '손': 182, '좀비': 183, 'ㅎㅎ': 184, '찾다': 185, '정식': 186, '생존': 187, '그리고': 188, '접다': 189, '한글': 190, '포션': 191, '또한': 192, '재미없다': 193, '씹다': 194, 'ㅋㅋ': 195, '부족하다': 196, '에는': 197, '엔': 198, '맞다': 199, '꿀잼': 200, '말다': 201, '모드': 202, '시': 203, '환불': 204, '보이다': 205, '한데': 206, '뭔': 207, '걸리다': 208, '화': 209, '제': 210, '하지만': 211, '날': 212, '힐링': 213, '부터': 214, '주다': 215, '버리다': 216, '라': 217, '살다': 218, '클리어': 219, '자유도': 220, '인데': 221, '가끔': 222, 'ㅈ': 223, '괜찮다': 224, '번역': 225, '단점': 226, '전작': 227, '대다': 228, '할인': 229, '뭔가': 230, '꽤': 231, '포탈': 232, '깨다': 233, '나쁘다': 234, '강추': 235, '편이': 236, '어느': 237, '빨리': 238, '후회': 239, '시스템': 240, '똥겜': 241, '브금': 242, '사운드': 243, '엔딩': 244, '개발자': 245, '좋아지다': 246, '꼭': 247, '쉬다': 248, '이지': 249, '마우스': 250, '컨트롤': 251, '짐': 252, '컨텐츠': 253, '만해': 254, '반복': 255, '노가다': 256, '요소': 257, '사기': 258, '감': 259, '절대': 260, '마음': 261, '한국어': 262, '야하다': 263, '씨': 264, '새': 265, '학살': 266, '동안': 267, '팔': 268, '뭐': 269, '제대로': 270, '섬': 271, '한국인': 272, '플레이어': 273, '한테': 274, '순간': 275, '나르다': 276, '근본': 277, '죽': 278, '꾸미다': 279, '해적': 280, '변하다': 281, '잡다': 282, '보여주다': 283, '찌다': 284, '상태': 285, '인가': 286, '짱': 287, '로딩': 288, '이만': 289, '차다': 290, '딱': 291, '지루하다': 292, '개인': 293, '밖에': 294, '느껴지다': 295, '과거': 296, '없이': 297, '싸다': 298, '건': 299, '원': 300, '가장': 301, '방법': 302, '기': 303, '이건': 304, '만에': 305, '년': 306, '크리스마스': 307, '준비': 308, '올라가다': 309, '갈수록': 310, '과제': 311, '나다': 312, '해당': 313, '눈': 314, '최적화': 315, '이라': 316, '심하다': 317, '모션': 318, '존나': 319, '장벽': 320, '힘드다': 321, '그래도': 322, '이면': 323, '가지': 324, '분들': 325, '장르': 326, '파티': 327, '하드': 328, '쟁이': 329, '위해': 330, '서': 331, '대': 332, '인정': 333, '머리': 334, '따다': 335, '창작': 336, '마당': 337, '방': 338, '드리다': 339, '마다': 340, '니까': 341, 'ㅠ': 342, '자주': 343, '베스트': 344, '듯': 345, '손절': 346, '읍니': 347, '암': 348, '입장': 349, '끝': 350, '지원': 351, '해도': 352, '여서': 353, '빠지다': 354, '포기': 355, '이후': 356, '알': 357, '어려움': 358, '써다': 359, '추후': 360, '들어가다': 361, '시뮬레이션': 362, '플': 363, '전략': 364, '공략': 365, '망겜': 366, '중요하다': 367, '한국': 368, '영상': 369, '님': 370, '수가': 371, '귀신': 372, '깔끔하다': 373, '즐거움': 374, '고객': 375, '제작': 376, '판매': 377, '만으로': 378, '만들어지다': 379, '이네': 380, '질리다': 381, '얼리다': 382, '만큼': 383, '이르다': 384, '만들기': 385, '확실하다': 386, '줄': 387, '함께': 388, '숨': 389, '참다': 390, '이렇다': 391, '뜨다': 392, '고인': 393, '하루': 394, '죽이다': 395, '인물': 396, '더럽다': 397, '만나다': 398, '기분': 399, '늘다': 400, '슬프다': 401, '작': 402, '라고': 403, '아무': 404, '지다': 405, '쏠다': 406, '존': 407, 'ㄴ': 408, '오기': 409, '만날': 410, '벌다': 411, '악랄하다': 412, '싸우다': 413, '둘': 414, '망하다': 415, '이유': 416, '온라인': 417, '무한': 418, '크래쉬': 419, '젠': 420, '스팀': 421, '언제': 422, '지우다': 423, '깔다': 424, '역시': 425, '개꿀잼임': 426, '오래': 427, '가볍다': 428, '퍼즐': 429, '나름': 430, '용서': 431, '길다': 432, '의미': 433, '넘기다': 434, '여기': 435, '다만': 436, '예전': 437, '가면': 438, '움': 439, '버전': 440, '되게': 441, '아무리': 442, '기본': 443, '틀': 444, '설명': 445, '맵': 446, '훌륭하다': 447, '한지': 448, '별거': 449, 'ㅎ': 450, '시즌': 451, '클릭': 452, '집중': 453, '출시': 454, '슬롯': 455, '머신': 456, '코인': 457, '소리': 458, '집': 459, '레벨': 460, '보상': 461, '엄청': 462, '달성': 463, '거나': 464, '냥': 465, '타임': 466, '남': 467, '주타이쿤': 468, '적다': 469, '개발': 470, '박다': 471, '다음': 472, '길': 473, '갖다': 474, '지형': 475, '세다': 476, '따로': 477, '제일': 478, '크다': 479, '본인': 480, '불구': 481, '넘어가다': 482, '많아지다': 483, '진입': 484, '듣다': 485, '빼다': 486, '간': 487, '관리': 488, '수명': 489, '아래': 490, '자원': 491, '기다리다': 492, '기존': 493, '힘들다': 494, '로그라이크': 495, '가깝다': 496, '대한': 497, '애정': 498, '차라리': 499, '무료': 500, '배포': 501, '세상': 502, '이미': 503, '신규': 504, '감동': 505, '이에요': 506, '여전하다': 507, '그동안': 508, '칭찬': 509, '아끼다': 510, '은근': 511, '헤': 512, '현실': 513, '사도': 514, '볼륨': 515, '몇': 516, '지나다': 517, '레포데': 518, '잇다': 519, '피지': 520, '컬': 521, '가져오다': 522, '이끌다': 523, '완벽': 524, '재': 525, '탈출': 526, '이서': 527, '평가': 528, '캐릭터': 529, '감사하다': 530, '찾기': 531, '마냥': 532, '별': 533, '섞이다': 534, '빠르다': 535, '폴리': 536, '브릿지': 537, '불다': 538, '님들': 539, '오픈': 540, '더욱': 541, '상점': 542, '패스': 543, '지나가다': 544, '음': 545, '위주': 546, '피파': 547, '사': 548, '포인트': 549, '없어지다': 550, '과금': 551, '강': 552, '추하다': 553, '놈': 554, '렉': 555, '꿈꾸다': 556, '피곤하다': 557, '앞': 558, '에서는': 559, '오프로드': 560, '느끼다': 561, '돌아가다': 562, '조': 563, '인터페이스': 564, '생기다': 565, '언': 566, '대한민국': 567, '사실': 568, '인디언': 569, '여러가지': 570, '스킬': 571, '존재': 572, '아예': 573, '음악': 574, '트레일러': 575, '까지는': 576, '진영': 577, '지만': 578, '가능성': 579, '충분하다': 580, '스카이림': 581, '스': 582, '누군가': 583, '그룹': 584, '전편': 585, '실력': 586, 'ㅣ': 587, '솔직하다': 588, '보통': 589, '생각나다': 590, '인지': 591, '땀': 592, '그리다': 593, '사운드트랙': 594, '동시': 595, '뛰어나다': 596, '덤': 597, '하자': 598, '언어': 599, '실망': 600, '편하다': 601, '오브': 602, '난': 603, '에너지': 604, '계속': 605, '목적': 606, '옛날': 607, '찍다': 608, '라이프': 609, '대사': 610, '또': 611, '차': 612, '바라다': 613, '밸런스': 614, '올': 615, '별로': 616, '피드백': 617, '지장': 618, '이번': 619, '패치': 620, '천원': 621, '튜토리얼': 622, '반': 623, '손가락': 624, '음식': 625, '퇴치': 626, '후': 627, '보스': 628, '합리': 629, '튜터리얼': 630, '키': 631, '위대하다': 632, '얻다': 633, '심다': 634, '옅다': 635, '흥정': 636, '사가다': 637, '뿐': 638, '어떠하다': 639, '관계': 640, '형성': 641, '재료': 642, '성분': 643, '성질': 644, '흥미': 645, '메뉴판': 646, '주문': 647, '잡것': 648, '응애': 649, '애기': 650, '나노': 651, '업뎃좀': 652, '현자': 653, '돌': 654, '귀찮다': 655, '라인': 656, '정원': 657, '광산': 658, '금지': 659, '연금술': 660, '파다': 661, '재밋는데': 662, '버튼': 663, '누르다': 664, '알림': 665, '창': 666, '죡같': 667, '물개': 668, '끼': 669, '그만하다': 670, '파밍': 671, '려고': 672, '몇번': 673, '도대체': 674, '발롬들': 675, '주시': 676, '예쁘다': 677, '바다': 678, '탐험': 679, '새끼': 680, '비걸': 681, '해군': 682, '다녀오다': 683, '아싸': 684, 'ㅠㅠㅠ': 685, '떵겜': 686, '찌발': 687, '어케해': 688, '듀토리얼': 689, '마치': 690, '영문': 691, '채': 692, '욕먹다': 693, '얼마나': 694, '행복하다': 695, '낭만': 696, '넘치다': 697, '동맹': 698, '나발': 699, '고민': 700, '약탈': 701, '마인드': 702, '가라': 703, '험난하다': 704, '치고': 705, '배부': 706, '하라': 707, '건지다': 708, '각': 709, '새롭다': 710, '유의': 711, '존잼': 712, '착하다': 713, '인사': 714, '연주': 715, '나중': 716, '원래': 717, '어': 718, '배다': 719, '도망가다': 720, '너희': 721, '동료': 722, '돼다': 723, '중국': 724, '적나라하다': 725, '타': 726, '패': 727, '드립': 728, '욕설': 729, '잼민': 730, '오프': 731, '킬': 732, '바탕화면': 733, '등등': 734, '반기다': 735, '그것': 736, '조차': 737, '해탈': 738, '착': 739, '몸소': 740, '호구': 741, '등신': 742, '취급': 743, '야': 744, '도박': 745, '도박장': 746, '자본주의': 747, '유익하다': 748, '경제': 749, '화만': 750, '어케': 751, '한마디': 752, '적당하다': 753, '점액': 754, '질도': 755, '엽기': 756, '수술': 757, '도구로': 758, '병들다': 759, '치료': 760, '웃다': 761, '찡그리다': 762, '외관': 763, '비위': 764, '분도': 765, '계시다': 766, '터치': 767, '노동': 768, '적임': 769, '촛농': 770, '홧병': 771, '뻔하다': 772, '갠': 773, '이기': 774, 'ㅆㅅㅌㅊ': 775, '영광': 776, '순삭': 777, '타임머신': 778, '때우다': 779, '정가': 780, '업그레이드': 781, '무책임하다': 782, 'ㅄ': 783, '슈터': 784, '가성': 785, '어지럽다': 786, '산': 787, '이쯤': 788, '심각': 789, '판타스틱': 790, '내다': 791, '으로서': 792, '마저': 793, '언리얼엔진': 794, '좁다': 795, '막히다': 796, '당하다': 797, '언인스톨': 798, '시뮬레이터': 799, '로써': 800, '작품': 801, '너무나도': 802, '디': 803, '비다': 804, '헬적화': 805, '칭': 806, '건가': 807, '자네': 808, '헣': 809, '통': 810, '다가오다': 811, '간편하다': 812, '력': 813, '쌓다': 814, '마': 815, '추다': 816, '어디': 817, '서나': 818, '들리다': 819, '간식': 820, '사탕': 821, '음료수': 822, '과자': 823, '즐겁다': 824, '멀리': 825, '호텔': 826, '장': 827, '따뜻하다': 828, '어워드': 829, '용돈': 830, '꾸러미': 831, '개이득': 832, '넹': 833, '부탁': 834, '죽지': 835, '까다롭다': 836, '번의': 837, '무리': 838, '평타': 839, '이니까': 840, '답': 841, '오래도록': 842, '기억': 843, '다양성': 844, '설계': 845, '제외': 846, '하등': 847, '수의사': 848, '수리': 849, '공': 850, '뚫리다': 851, '단계': 852, '나아가다': 853, '기믹': 854, '전혀': 855, '툴': 856, '이상하다': 857, '높낮이': 858, '길이': 859, '연결': 860, '경우': 861, '잦다': 862, '오브젝트': 863, '특정': 864, '좌표': 865, '갈다': 866, '만족도': 867, '바닥': 868, '문제': 869, '발견': 870, '배속': 871, '동물원': 872, '규모': 873, '종일': 874, '앉다': 875, '돌리다': 876, '불만': 877, '폭주': 878, '물론': 879, '피임': 880, '줌': 881, '으로써': 882, '해결': 883, '기다': 884, '문제점': 885, '설치': 886, '최적': 887, '환경': 888, '뚝뚝': 889, '끊다': 890, '그렇다고': 891, '그래픽카드': 892, '부하': 893, '망': 894, '이런': 895, '예민하다': 896, '고유': 897, '돌려막기': 898, '꾸준하다': 899, '업뎃': 900, '점점': 901, '강의': 902, '샌드박스': 903, '정신건강': 904, '익숙해지다': 905, '그거': 906, '상호작용': 907, '곧': 908, '채우다': 909, '그런': 910, '온도': 911, '습도': 912, '맞추다': 913, '쭉': 914, '해오다': 915, '깊이': 916, '팬심': 917, '열심히': 918, '평가판': 919, '기능': 920, '어우': 921, '정신': 922, '차리다': 923, '몇몇': 924, '멀다': 925, '거지': 926, '분명': 927, '운송': 928, '머': 929, '만족하다': 930, '우주': 931, '스테이션': 932, '서비스': 933, '제공': 934, '쌓이다': 935, '연구': 936, '통해': 937, '업글': 938, '킬딸': 939, '확인': 940, '짖다': 941, '열폭': 942, '주간': 943, '소유자': 944, '쿠폰': 945, '더하다': 946, '셋': 947, '재활용': 948, '메커니즘': 949, '알기': 950, '운': 951, '타이': 952, '쿤': 953, '이라기보다는': 954, '트': 955, '이얼': 956, '앤': 957, '에러': 958, '각별': 959, '후속작': 960, '내놓다': 961, '경쟁': 962, '점수': 963, '유입': 964, '공짜': 965, '배그': 966, '치킨': 967, '배틀로얄': 968, '겠다': 969, '뭘': 970, '수많다': 971, '게이머': 972, '살아오다': 973, '새벽': 974, '밤': 975, 'ㅇㅇ': 976, '열루': 977, '절루': 978, '헤헤': 979, 'ㅓ': 980, 'ㅐ': 981, '선물': 982, '괜히': 983, '벌써': 984, '끝나다': 985, '기발하다': 986, '해내다': 987, '궁금하다': 988, '꾹': 989, '참고': 990, '인생게임': 991, '청춘': 992, '간단하다': 993, '캐다': 994, '야무지다': 995, '재밋음': 996, '돋다': 997, '퀄': 998, '까지도': 999, '컨닝': 1000, '거임': 1001, '가보다': 1002, '몸': 1003, '미래': 1004, '온': 1005, '해석': 1006, '뇌': 1007, '아프다': 1008, '쓰레기': 1009, '잡': 1010, '중국인': 1011, '유리': 1012, '유즈맵': 1013, '본': 1014, '작다': 1015, '공간': 1016, '또는': 1017, '압도': 1018, '긍정': 1019, '만하': 1020, '라운드': 1021, '트월킹춤': 1022, '냅다': 1023, '갈겨': 1024, '달라지다': 1025, '능지': 1026, '혈안': 1027, '무슨': 1028, '비트코인': 1029, '단타': 1030, 'ㅈㄴ': 1031, '멍청이': 1032, '가눙': 1033, '세번': 1034, '쨰': 1035, '두번째': 1036, '합': 1037, '잘만': 1038, '진': 1039, '오피': 1040, '셜': 1041, '인원': 1042, '두': 1043, '구독': 1044, '다리': 1045, '취향': 1046, '스테이지': 1047, '차량': 1048, '지는': 1049, '통과': 1050, '요요': 1051, '빠개질': 1052, '으로만': 1053, '독특하다': 1054, '인칭': 1055, '탑': 1056, '뷰': 1057, '형식': 1058, '아포칼립스': 1059, '류': 1060, '어제': 1061, '빌드': 1062, '결론': 1063, '말씀': 1064, '월드': 1065, '서바이벌': 1066, '특히': 1067, '호불호': 1068, '갈리': 1069, '둘러보다': 1070, '완전': 1071, '밀면': 1072, '애': 1073, '전부': 1074, '신뢰': 1075, '도약': 1076, '느리다': 1077, '터지다': 1078, '뛰어가다': 1079, '갑자기': 1080, '벽': 1081, '어쌔신': 1082, '크리드': 1083, '시리즈': 1084, '휴': 1085, '불친절하다': 1086, '어크': 1087, '입문': 1088, '용': 1089, '으로는': 1090, '커리어': 1091, '싱글': 1092, '에선': 1093, '산걸': 1094, '예': 1095, '흑우': 1096, '풀': 1097, '프라': 1098, '이스': 1099, '바치다': 1100, '세용': 1101, '사지': 1102, '쇼': 1103, '현질': 1104, '질린다': 1105, '무': 1106, '얼티밋': 1107, '어쩔': 1108, '중반': 1109, '상당하다': 1110, '시드': 1111, '권장': 1112, '끝없다': 1113, '연장': 1114, '영생': 1115, '축': 1116, '마인크래프트': 1117, '굳다': 1118, '으로도': 1119, '사후': 1120, '테라리아': 1121, '기준': 1122, '복잡하다': 1123, '빡치다': 1124, '씻다': 1125, '어려워지다': 1126, '래전드': 1127, '뭐라다': 1128, '장점': 1129, '등가교환': 1130, '후속': 1131, '머드': 1132, '러너': 1133, '비교': 1134, '보': 1135, '미션': 1136, '뿌듯하다': 1137, '차갑다': 1138, '시원시원하다': 1139, '상남자': 1140, '부옼아옼앜앙': 1141, '진흙': 1142, '물': 1143, '바퀴': 1144, 'ㅠㅠ': 1145, '겸손': 1146, '위험하다': 1147, '곳': 1148, '라는': 1149, '배우다': 1150, '중도': 1151, '페이지': 1152, '아직도': 1153, '저장': 1154, 'ㅆㅂ': 1155, '불필요하다': 1156, '최악': 1157, '덕분': 1158, '겜임': 1159, '허다': 1160, '막상': 1161, '접': 1162, '존나쩌': 1163, '물의': 1164, '커마': 1165, '엘더스크롤': 1166, '나타나다': 1167, '법': 1168, '맛있다': 1169, '대륙': 1170, '혼수상태': 1171, '신': 1172, '불구자': 1173, '일장춘몽': 1174, '제나': 1175, 'ㅅㅂ': 1176, '먹이다': 1177, '그러면': 1178, '당신': 1179, '건축법': 1180, '규제': 1181, '정수기': 1182, '덫': 1183, '생존왕': 1184, '거머리': 1185, '꼬운': 1186, '방울뱀': 1187, '씨발련': 1188, '짱짱': 1189, '드럽다': 1190, '기만': 1191, '이거할빠': 1192, '나츠키': 1193, '감금': 1194, '생활': 1195, '애매하다': 1196, '활': 1197, '총기': 1198, '암살': 1199, '돌아보다': 1200, '외곽': 1201, '무기': 1202, '거래': 1203, '사용': 1204, '상상': 1205, '배경음': 1206, '무방': 1207, '정말로': 1208, '들어오다': 1209, '절대로': 1210, '반갑다': 1211, '초기': 1212, '프레임': 1213, '소수': 1214, '마저도': 1215, '쓸모': 1216, '루즈': 1217, '개척': 1218, '서서': 1219, '원주민': 1220, '정복': 1221, '쪽': 1222, '에도': 1223, '독자': 1224, '항상': 1225, '사전': 1226, '중이': 1227, '모국어': 1228, '단어': 1229, '보완': 1230, '부합': 1231, '평점': 1232, '내리다': 1233, '어딨다': 1234, '빈약하다': 1235, '틀다': 1236, '심심하다': 1237, '트셈': 1238, '억': 1239, '감안': 1240, '최신': 1241, '화려하다': 1242, '기대하다': 1243, '언급': 1244, '어쌔신크리드': 1245, '전적': 1246, '랄': 1247, '버': 1248, '무리다': 1249, '해': 1250, '거리': 1251, '늘': 1252, '만약': 1253, '가입': 1254, '유일하다': 1255, '멀티플레이': 1256, '추구': 1257, '보장': 1258, '사장': 1259, 'ㅜㅜ': 1260, '시방': 1261, '뻥': 1262, '해봤다': 1263, '비슷하다': 1264, '개꿀': 1265, '째다': 1266, '다운': 1267, '무대': 1268, '뒤지다': 1269, '쉽다': 1270, '기전': 1271, '걱정': 1272, '알아내다': 1273, '바로바로': 1274, '리트': 1275, '라이': 1276, '결국': 1277, '꺠': 1278, '자꾸': 1279, '다이스': 1280, '섹시': 1281, '시점': 1282, '미치다': 1283, '만화': 1284, '어리다': 1285, '문득': 1286, '오락실': 1287, '신나다': 1288, '왜': 1289, '어렴풋이': 1290, '애니메이터': 1291, '갈아': 1292, '넣다': 1293, '스프라이트': 1294, '재즈': 1295, '세기': 1296, '분위기': 1297, '살리다': 1298, '노력': 1299, '성도': 1300, '계': 1301, '교과서': 1302, '운빨': 1303, '우승': 1304, 'ㅠㅠㅠㅠㅠㅠㅠㅠㅠㅠ': 1305, '더없이': 1306, '암튼': 1307, '외국인': 1308, '막': 1309, '덱': 1310, '메이킹': 1311, '호밍빼': 1312, '이제': 1313, '다운로드': 1314, '지원이': 1315, '대박': 1316, '스럽다': 1317, '영': 1318, '어로': 1319, '맘': 1320, '글': 1321, '작가': 1322, '썻음': 1323, '조만간': 1324, '엑': 1325, '자일': 1326, '니나': 1327, '일가': 1328, '달러': 1329, '데드': 1330, '아일랜드': 1331, '일치': 1332, '썰다': 1333, '고기': 1334, '리메이크': 1335, '고치다': 1336, '좆망': 1337, '하나로': 1338, '어서': 1339, '개선': 1340, '픽스': 1341, '일이': 1342, '발생': 1343, '특수': 1344, '육': 1345, '잔인': 1346, '등장인물': 1347, '묻다': 1348, '구관': 1349, '명관': 1350, '거의': 1351, '년전': 1352, '오프닝': 1353, '그게': 1354, '다임': 1355, '코옵류': 1356, '에서의': 1357, '페넥여우': 1358, '너': 1359, '무쉬': 1360, '무서움': 1361, '로이': 1362, '준': 1363, '소중하다': 1364, '선풍기': 1365, '잃어버리다': 1366, '엄마': 1367, '등짝': 1368, '스매시': 1369, '공부': 1370, '룸메': 1371, '고용': 1372, '부리다': 1373, '트렌드': 1374, '하이에나': 1375, '도시': 1376, '떠돌다': 1377, '제목': 1378, '사이버': 1379, '렉카': 1380, '바꾸다': 1381, '유튜브': 1382, '극': 1383, '고비': 1384, '겨울': 1385, '옛적': 1386, '쿠키': 1387, '샵': 1388, '위키': 1389, '랜드': 1390, '감성': 1391, '맛보다': 1392, '점': 1393, '외치다': 1394, '태산': 1395, '끼임': 1396, '멈추다': 1397, '이벤트': 1398, '어처구니': 1399, '웃기다': 1400, '여': 1401, '피해': 1402, '메인': 1403, '퀘': 1404, '사보다': 1405, '크게': 1406, '미비하다': 1407, '지속': 1408, '괴롭히다': 1409, '이며': 1410, '내용': 1411, '버무리': 1412, '희귀': 1413, '요약': 1414, '한게임': 1415, '여러': 1416, '연습': 1417, '각각': 1418, '퍼크별로': 1419, '능력': 1420, '재미나': 1421, '리기': 1422, '과정': 1423, '안성맞춤': 1424, '어둑': 1425, '칙칙하다': 1426, '안대': 1427, '다가': 1428, '뒤늦다': 1429, '뛰어들다': 1430, '디펜스': 1431, '최고봉': 1432, '퍽': 1433, '직업': 1434, '역할': 1435, '세분': 1436, '화가': 1437, '활성화': 1438, '매너': 1439, '적응': 1440, '괜시리': 1441, '효용': 1442, '초보': 1443, '어색하다': 1444, '친해지다': 1445, '웃기': 1446, '재밋었음': 1447, '친목': 1448, '다지': 1449, '주먹': 1450, '다지다': 1451, '일석이조': 1452, '지인': 1453, '충': 1454, '격': 1455, '실': 1456, '친하다': 1457, '뻔': 1458, '저리': 1459, '퍼': 1460, '그러나': 1461, '인용': 1462, '협동': 1463, '질리': 1464, '올해': 1465, '훅': 1466, '보내다': 1467, '미지': 1468, '자잘하다': 1469, '심각하다': 1470, '세이브': 1471, '옷': 1472, '튕김': 1473, '나이스': 1474, '농담': 1475, '삼만': 1476, '물어보다': 1477, '값': 1478, '챙기다': 1479, '인덱컨': 1480, '어메이징': 1481, '논게임': 1482, 'ㅋㅋㅋㅋㅋㅋ': 1483, '분노하다': 1484, '알릭스': 1485, '무난': 1486, '깻는데': 1487, '라이엇': 1488, '니깐': 1489, '존온': 1490, '약간': 1491, '스릴': 1492, '자신': 1493, '굿': 1494, '모두': 1495, '평소': 1496, '범람': 1497, '단순하다': 1498, '무엇': 1499, '제품': 1500, '안해': 1501, '다잡다': 1502, '빛': 1503, '아름': 1504, '흥겜': 1505, '쿡드': 1506, '뭔들': 1507, '뇌절': 1508, '카페': 1509, '알바': 1510, '라면': 1511, '수도': 1512, '조심': 1513, '셈': 1514, '수준': 1515, '일해': 1516, '도저히': 1517, 'ㄱㅊ': 1518, '은듯': 1519, '볼': 1520, '우선': 1521, '뭡': 1522, '캠페인': 1523, '컴': 1524, '짜다': 1525, '파스모': 1526, '보다는': 1527, '세부': 1528, '디테일': 1529, '최종': 1530, '목표': 1531, '각자': 1532, '특징': 1533, '겉모습': 1534, '구별': 1535, '증거': 1536, '수행': 1537, '그때': 1538, '유용하다': 1539, '쓸다': 1540, '실행': 1541, '까맣다': 1542, '화면': 1543, '가급적': 1544, '라도': 1545, '줫으': 1546, '무섭다': 1547, '첫': 1548, '다소': 1549, '부정': 1550, '코멘트': 1551, '주일': 1552, '분명하다': 1553, '타격': 1554, '피격': 1555, '명확하다': 1556, '차지': 1557, '액션': 1558, '강제': 1559, '스트레스': 1560, '자극': 1561, '남다': 1562, '비추다': 1563, '천하다': 1564, '런하': 1565, '불합리': 1566, '상황': 1567, '헤치다': 1568, '나가다': 1569, '의지': 1570, '한정': 1571, '싱겁다': 1572, '망자': 1573, '타이탄': 1574, '소울': 1575, '극한': 1576, '우기다': 1577, '넣기': 1578, '패턴': 1579, '반정': 1580, '의식': 1581, '불러일으키다': 1582, '미묘하다': 1583, '피하': 1584, '때리다': 1585, '딜로': 1586, '누르기': 1587, '직역': 1588, '직관': 1589, '완료': 1590, '투성이': 1591, '똥망': 1592, '개다': 1593, '안내': 1594, '구축함': 1595, '씨발': 1596, '십': 1597, '동해': 1598, '일본해': 1599, '표기': 1600, '버그극': 1601, '혐': 1602, '소규모': 1603, '진수': 1604, '종족': 1605, '준수': 1606, '빅토리': 1607, '개념': 1608, '벗어나다': 1609, '참신하다': 1610, '조난': 1611, '도트': 1612, '주': 1613, '밌': 1614, '선': 1615, '발매': 1616, '아버지': 1617, '똥': 1618, '안사면': 1619, '관': 1620, '당장': 1621}\n"
          ]
        }
      ]
    },
    {
      "cell_type": "code",
      "metadata": {
        "id": "P87MGN80q7b2",
        "colab": {
          "base_uri": "https://localhost:8080/"
        },
        "outputId": "0d5826be-6172-4bc1-efea-b963c2a0e86d"
      },
      "source": [
        "print(tokenizer.word_counts.items())"
      ],
      "execution_count": null,
      "outputs": [
        {
          "output_type": "stream",
          "name": "stdout",
          "text": [
            "odict_items([('좋다', 39), ('포션', 4), ('위대하다', 1), ('게임', 174), ('깔끔하다', 2), ('자다', 8), ('만들다', 13), ('얻다', 1), ('즐거움', 2), ('심다', 1), ('너무', 19), ('옅다', 1), ('가격', 6), ('흥정', 1), ('쉬다', 3), ('고객', 2), ('을', 111), ('사가다', 1), ('뿐', 1), ('이지', 3), ('어떠하다', 1), ('관계', 1), ('형성', 1), ('않다', 32), ('제작', 2), ('또한', 4), ('재료', 1), ('성분', 1), ('필요하다', 5), ('게', 9), ('아니다', 26), ('성질', 1), ('것', 25), ('흥미', 1), ('떨어지다', 6), ('판매', 2), ('자체', 6), ('만으로', 2), ('재밌다', 56), ('수', 22), ('있다', 86), ('추천', 17), ('메뉴판', 1), ('보고', 5), ('주문', 1), ('잡것', 1), ('아', 10), ('응애', 1), ('나', 16), ('애기', 1), ('상', 5), ('인', 17), ('마우스', 3), ('나노', 1), ('컨트롤', 3), ('가능하다', 7), ('짐', 3), ('친구', 25), ('랑', 10), ('없다', 55), ('재미', 18), ('재미없다', 4), ('ㄹㅇ', 5), ('개', 7), ('씹다', 4), ('노잼', 7), ('임', 7), ('진짜', 9), ('로', 23), ('혼자', 9), ('함', 11), ('ㅋㅋ', 4), ('만들어지다', 2), ('업뎃좀', 1), ('더', 19), ('해주다', 13), ('이네', 2), ('컨텐츠', 3), ('부족하다', 4), ('초반', 5), ('에는', 4), ('만해', 3), ('반복', 3), ('노가다', 3), ('질리다', 2), ('성', 6), ('요소', 3), ('많다', 17), ('겜', 28), ('좋아하다', 12), ('사람', 23), ('일단', 5), ('아직', 13), ('얼리다', 2), ('만큼', 2), ('부분', 7), ('지금', 8), ('사기', 3), ('엔', 4), ('이르다', 2), ('감', 3), ('이상', 5), ('현자', 1), ('돌', 1), ('만들기', 2), ('귀찮다', 1), ('스토리', 5), ('라인', 1), ('하고', 15), ('추가', 5), ('정원', 1), ('광산', 1), ('금지', 1), ('되다', 35), ('연금술', 1), ('같다', 23), ('확실하다', 2), ('절대', 3), ('돈', 12), ('아깝다', 7), ('죽다', 8), ('걸', 6), ('이라고', 7), ('파다', 1), ('즐기다', 11), ('줄', 2), ('알다', 5), ('함께', 2), ('마음', 3), ('맞다', 4), ('이랑', 7), ('꿀잼', 4), ('재밋는데', 1), ('같이', 15), ('한국어', 3), ('업데이트', 5), ('때', 19), ('까지', 13), ('숨', 2), ('참다', 2), ('이렇다', 2), ('구매', 6), ('버튼', 1), ('누르다', 1), ('말다', 4), ('알림', 1), ('창', 1), ('뜨다', 2), ('야하다', 3), ('씨', 3), ('ㅡ', 7), ('발', 7), ('죡같', 1), ('고인', 2), ('물개', 1), ('새', 3), ('끼', 1), ('뉴비', 5), ('학살', 3), ('그만하다', 1), ('시간', 22), ('동안', 3), ('파밍', 1), ('팔', 3), ('려고', 1), ('가다', 13), ('하루', 2), ('몇번', 1), ('치다', 8), ('죽이다', 2), ('도대체', 1), ('고', 19), ('인물', 2), ('발롬들', 1), ('더럽다', 2), ('안', 17), ('다', 21), ('한글패치', 5), ('정말', 16), ('아쉽다', 5), ('근데', 6), ('유저', 9), ('만나다', 2), ('모드', 4), ('주시', 1), ('면', 9), ('안되다', 6), ('요', 6), ('예쁘다', 1), ('바다', 1), ('보다', 24), ('탐험', 1), ('새끼', 1), ('오다', 6), ('시', 4), ('비걸', 1), ('기분', 2), ('뭐', 3), ('내', 9), ('해군', 1), ('다녀오다', 1), ('위', 7), ('저', 9), ('아싸', 1), ('늘다', 2), ('분', 9), ('ㅠㅠㅠ', 1), ('떵겜', 1), ('갓', 15), ('조금', 5), ('슬프다', 2), ('찌발', 1), ('어케해', 1), ('제대로', 3), ('시작', 8), ('도전', 5), ('듀토리얼', 1), ('마치', 1), ('나오다', 14), ('작', 2), ('섬', 3), ('에서', 20), ('한국인', 3), ('플레이어', 3), ('명', 5), ('한테', 3), ('영문', 1), ('모르다', 13), ('채', 1), ('번', 6), ('넘다', 5), ('라고', 2), ('욕먹다', 1), ('아무', 2), ('못', 18), ('얼마나', 1), ('행복하다', 1), ('지다', 2), ('낭만', 1), ('넘치다', 1), ('다른', 7), ('배', 6), ('순간', 3), ('동맹', 1), ('이고', 5), ('나발', 1), ('나르다', 3), ('쏠다', 2), ('먼저', 5), ('고민', 1), ('약탈', 1), ('마인드', 1), ('근본', 3), ('처음', 8), ('가라', 1), ('존', 2), ('ㄴ', 2), ('험난하다', 1), ('죽', 3), ('치고', 1), ('오기', 2), ('만', 18), ('배부', 1), ('어떻다', 7), ('진행', 5), ('하라', 1), ('건지다', 1), ('환불', 4), ('각', 1), ('새롭다', 1), ('거', 13), ('유의', 1), ('존잼', 1), ('일', 6), ('만날', 2), ('들다', 13), ('착하다', 1), ('인사', 1), ('연주', 1), ('나중', 1), ('벌다', 2), ('꾸미다', 3), ('악랄하다', 2), ('해적', 3), ('보이다', 4), ('원래', 1), ('그', 7), ('이다', 33), ('처럼', 8), ('변하다', 3), ('어', 1), ('배다', 1), ('도망가다', 1), ('싸우다', 2), ('둘', 2), ('중', 6), ('하나', 6), ('너희', 1), ('동료', 1), ('돼다', 1), ('핵', 9), ('잡다', 3), ('중국', 1), ('망하다', 2), ('이유', 2), ('적나라하다', 1), ('보여주다', 3), ('명작', 9), ('타', 1), ('온라인', 2), ('패', 1), ('드립', 1), ('욕설', 1), ('잼민', 1), ('오프', 1), ('찌다', 3), ('무한', 2), ('킬', 1), ('바탕화면', 1), ('크래쉬', 2), ('등등', 1), ('반기다', 1), ('젠', 2), ('그것', 1), ('조차', 1), ('상태', 3), ('되어다', 10), ('해탈', 1), ('인가', 3), ('한데', 4), ('착', 1), ('짱', 3), ('뭔', 4), ('지', 5), ('몸소', 1), ('쓰다', 6), ('호구', 1), ('등신', 1), ('취급', 1), ('받다', 5), ('해보다', 24), ('스팀', 2), ('최고', 7), ('야', 1), ('언제', 2), ('지우다', 2), ('싶다', 7), ('깔다', 2), ('플레이', 17), ('로딩', 3), ('도박', 1), ('도박장', 1), ('역시', 2), ('이만', 3), ('자본주의', 1), ('유익하다', 1), ('경제', 1), ('모든', 6), ('말', 11), ('개꿀잼임', 2), ('좆', 5), ('차다', 3), ('오래', 2), ('걸리다', 4), ('적', 24), ('화만', 1), ('어케', 1), ('딱', 3), ('한마디', 1), ('화', 4), ('가볍다', 2), ('제', 4), ('퍼즐', 2), ('난이도', 5), ('적당하다', 1), ('점액', 1), ('질도', 1), ('나름', 2), ('귀엽다', 6), ('지루하다', 3), ('엽기', 1), ('수술', 1), ('도구로', 1), ('병들다', 1), ('치료', 1), ('짧다', 7), ('웃다', 1), ('찡그리다', 1), ('개인', 3), ('외관', 1), ('비위', 1), ('분도', 1), ('계시다', 1), ('재미있다', 24), ('터치', 1), ('노동', 1), ('밖에', 3), ('느껴지다', 3), ('하지만', 4), ('용서', 2), ('길다', 2), ('의미', 2), ('적임', 1), ('촛농', 1), ('홧병', 1), ('날', 4), ('뻔하다', 1), ('갠', 1), ('힐링', 4), ('이기', 1), ('ㅆㅅㅌㅊ', 1), ('추억', 5), ('부터', 4), ('넘기다', 2), ('과거', 3), ('여기', 2), ('서버', 7), ('다시', 6), ('한번', 7), ('다만', 2), ('예전', 2), ('영광', 1), ('생각', 18), ('없이', 3), ('순삭', 1), ('타임머신', 1), ('때우다', 1), ('버그', 13), ('주다', 4), ('세', 9), ('가면', 2), ('정가', 1), ('사다', 10), ('움', 2), ('업그레이드', 1), ('버전', 2), ('그냥', 11), ('싸다', 3), ('맛', 5), ('무책임하다', 1), ('ㅄ', 1), ('타다', 6), ('슈터', 1), ('갖추다', 5), ('건', 3), ('가성', 1), ('비', 6), ('어지럽다', 1), ('그렇다', 5), ('되게', 2), ('원', 3), ('산', 1), ('이지만', 6), ('이쯤', 1), ('많이', 6), ('심각', 1), ('가장', 3), ('판타스틱', 1), ('내다', 1), ('버리다', 4), ('방법', 3), ('아무리', 2), ('으로서', 1), ('기본', 2), ('틀', 2), ('마저', 1), ('언리얼엔진', 1), ('설명', 2), ('맵', 2), ('좁다', 1), ('기', 3), ('막히다', 1), ('당하다', 1), ('인생', 5), ('이건', 3), ('언인스톨', 1), ('시뮬레이터', 1), ('로써', 1), ('훌륭하다', 2), ('작품', 1), ('한지', 2), ('만에', 3), ('너무나도', 1), ('별거', 2), ('디', 1), ('비다', 1), ('헬적화', 1), ('라', 4), ('칭', 1), ('건가', 1), ('자네', 1), ('ㅎ', 2), ('헣', 1), ('년', 3), ('전', 6), ('쯤', 5), ('통', 1), ('크리스마스', 3), ('시즌', 2), ('다가오다', 1), ('간편하다', 1), ('클릭', 2), ('집중', 2), ('력', 1), ('쌓다', 1), ('마', 1), ('추다', 1), ('출시', 2), ('슬롯', 2), ('머신', 2), ('어디', 1), ('서나', 1), ('코인', 2), ('소리', 2), ('들리다', 1), ('간식', 1), ('사탕', 1), ('음료수', 1), ('과자', 1), ('다양하다', 7), ('준비', 3), ('즐겁다', 1), ('멀리', 1), ('호텔', 1), ('이나', 6), ('장', 1), ('집', 2), ('따뜻하다', 1), ('레벨', 2), ('올라가다', 3), ('갈수록', 3), ('어워드', 1), ('보상', 2), ('용돈', 1), ('엄청', 2), ('다르다', 5), ('꾸러미', 1), ('살다', 4), ('개이득', 1), ('넹', 1), ('한글화', 6), ('부탁', 1), ('과제', 3), ('정도', 12), ('달성', 2), ('죽지', 1), ('클리어', 4), ('하', 7), ('거나', 2), ('등', 10), ('까다롭다', 1), ('번의', 1), ('무리', 1), ('냥', 2), ('평타', 1), ('잼', 5), ('타임', 2), ('이니까', 1), ('답', 1), ('오래도록', 1), ('기억', 1), ('남', 2), ('그래픽', 16), ('매우', 8), ('편', 5), ('자유도', 4), ('높다', 6), ('주타이쿤', 2), ('다양성', 1), ('적다', 2), ('설계', 1), ('제외', 1), ('나다', 3), ('하등', 1), ('개발', 2), ('수의사', 1), ('박다', 2), ('수리', 1), ('공', 1), ('뚫리다', 1), ('다음', 2), ('단계', 1), ('나아가다', 1), ('기믹', 1), ('전혀', 1), ('해당', 3), ('인데', 4), ('툴', 1), ('길', 2), ('이상하다', 1), ('높낮이', 1), ('길이', 1), ('연결', 1), ('경우', 1), ('잦다', 1), ('동물', 7), ('씩', 5), ('오브젝트', 1), ('갖다', 2), ('특정', 1), ('좌표', 1), ('갈다', 1), ('지형', 2), ('만족도', 1), ('바닥', 1), ('세다', 2), ('문제', 1), ('가끔', 4), ('발견', 1), ('따로', 2), ('배속', 1), ('동물원', 1), ('규모', 1), ('종일', 1), ('앉다', 1), ('눈', 3), ('돌리다', 1), ('불만', 1), ('폭주', 1), ('물론', 1), ('에게', 6), ('피임', 1), ('약', 6), ('줌', 1), ('으로써', 1), ('해결', 1), ('기다', 1), ('제일', 2), ('크다', 2), ('문제점', 1), ('ㅈ', 4), ('최적화', 3), ('본인', 2), ('설치', 1), ('최적', 1), ('환경', 1), ('불구', 2), ('넘어가다', 2), ('뚝뚝', 1), ('끊다', 1), ('그렇다고', 1), ('그래픽카드', 1), ('부하', 1), ('망', 1), ('이라', 3), ('이런', 1), ('예민하다', 1), ('끄다', 6), ('심하다', 3), ('많아지다', 2), ('고유', 1), ('모션', 3), ('돌려막기', 1), ('존나', 3), ('꾸준하다', 1), ('업뎃', 1), ('점점', 1), ('진입', 2), ('장벽', 3), ('강의', 1), ('듣다', 2), ('샌드박스', 1), ('정신건강', 1), ('익숙해지다', 1), ('그거', 1), ('빼다', 2), ('간', 2), ('상호작용', 1), ('괜찮다', 4), ('곧', 1), ('채우다', 1), ('관리', 2), ('어렵다', 8), ('수명', 2), ('그런', 1), ('힘드다', 3), ('온도', 1), ('습도', 1), ('맞추다', 1), ('그래도', 3), ('쭉', 1), ('해오다', 1), ('깊이', 1), ('팬심', 1), ('번역', 4), ('열심히', 1), ('평가판', 1), ('기능', 1), ('어우', 1), ('정신', 1), ('차리다', 1), ('아래', 2), ('몇몇', 1), ('단점', 4), ('멀다', 1), ('거지', 1), ('분명', 1), ('자원', 2), ('운송', 1), ('머', 1), ('이면', 3), ('만족하다', 1), ('우주', 1), ('스테이션', 1), ('서비스', 1), ('제공', 1), ('쌓이다', 1), ('연구', 1), ('통해', 1), ('업글', 1), ('손', 5), ('가지', 3), ('킬딸', 1), ('분들', 3), ('전작', 4), ('장르', 3), ('확인', 1), ('짖다', 1), ('대다', 4), ('열폭', 1), ('주간', 1), ('할인', 4), ('파티', 3), ('하드', 3), ('소유자', 1), ('쿠폰', 1), ('더하다', 1), ('기다리다', 2), ('기존', 2), ('셋', 1), ('재활용', 1), ('메커니즘', 1), ('알기', 1), ('힘들다', 2), ('운', 1), ('타이', 1), ('쿤', 1), ('이라기보다는', 1), ('트', 1), ('이얼', 1), ('앤', 1), ('에러', 1), ('로그라이크', 2), ('가깝다', 2), ('대한', 2), ('각별', 1), ('애정', 2), ('뭔가', 4), ('느낌', 9), ('꽤', 4), ('차라리', 2), ('후속작', 1), ('내놓다', 1), ('무료', 2), ('배포', 2), ('쟁이', 3), ('세상', 2), ('위해', 3), ('서', 3), ('경쟁', 1), ('이미', 2), ('점수', 1), ('신규', 2), ('유입', 1), ('공짜', 1), ('감동', 2), ('이에요', 2), ('대', 3), ('배그', 1), ('치킨', 1), ('먹다', 7), ('배틀로얄', 1), ('겠다', 1), ('뭘', 1), ('수많다', 1), ('게이머', 1), ('인정', 3), ('여전하다', 2), ('그동안', 2), ('살아오다', 1), ('새벽', 1), ('밤', 1), ('칭찬', 2), ('아끼다', 2), ('은근', 2), ('ㅇㅇ', 1), ('머리', 3), ('열루', 1), ('따다', 3), ('절루', 1), ('헤헤', 1), ('헤', 2), ('현실', 2), ('사도', 2), ('ㅓ', 1), ('ㅐ', 1), ('선물', 1), ('멀티', 8), ('괜히', 1), ('포탈', 4), ('벌써', 1), ('끝나다', 1), ('볼륨', 2), ('기발하다', 1), ('해내다', 1), ('궁금하다', 1), ('멀미', 6), ('깨다', 4), ('꾹', 1), ('참고', 1), ('몇', 2), ('지나다', 2), ('좀비', 5), ('인생게임', 1), ('청춘', 1), ('레포데', 2), ('간단하다', 1), ('캐다', 1), ('야무지다', 1), ('잇다', 2), ('ㅎㅎ', 5), ('재밋음', 1), ('돋다', 1), ('퀄', 1), ('나쁘다', 4), ('강추', 4), ('까지도', 1), ('컨닝', 1), ('거임', 1), ('가보다', 1), ('피지', 2), ('컬', 2), ('몸', 1), ('가져오다', 2), ('미래', 1), ('이끌다', 2), ('온', 1), ('완벽', 2), ('재', 2), ('해석', 1), ('뇌', 1), ('아프다', 1), ('쓰레기', 1), ('제발', 12), ('잡', 1), ('중국인', 1), ('유리', 1), ('창작', 3), ('마당', 3), ('유즈맵', 1), ('본', 1), ('편이', 4), ('방', 3), ('탈출', 2), ('드리다', 3), ('아주', 6), ('작다', 1), ('공간', 1), ('또는', 1), ('이서', 2), ('압도', 1), ('긍정', 1), ('평가', 2), ('만하', 1), ('라운드', 1), ('마다', 3), ('캐릭터', 2), ('트월킹춤', 1), ('냅다', 1), ('갈겨', 1), ('달라지다', 1), ('감사하다', 2), ('어느', 4), ('능지', 1), ('찾기', 2), ('혈안', 1), ('무슨', 1), ('비트코인', 1), ('단타', 1), ('마냥', 2), ('ㅈㄴ', 1), ('찾다', 5), ('멍청이', 1), ('가눙', 1), ('세번', 1), ('쨰', 1), ('두번째', 1), ('합', 1), ('니까', 3), ('ㅠ', 3), ('잘만', 1), ('자주', 3), ('진', 1), ('오피', 1), ('셜', 1), ('인원', 1), ('두', 1), ('베스트', 3), ('듯', 3), ('구독', 1), ('다리', 1), ('별', 2), ('섞이다', 2), ('취향', 1), ('빠르다', 2), ('손절', 3), ('스테이지', 1), ('차량', 1), ('지는', 1), ('통과', 1), ('요요', 1), ('빠개질', 1), ('폴리', 2), ('브릿지', 2), ('불다', 2), ('정식', 5), ('으로만', 1), ('독특하다', 1), ('인칭', 1), ('탑', 1), ('뷰', 1), ('형식', 1), ('아포칼립스', 1), ('류', 1), ('생존', 5), ('님들', 2), ('어제', 1), ('빌드', 1), ('빨리', 4), ('결론', 1), ('말씀', 1), ('오픈', 2), ('월드', 1), ('서바이벌', 1), ('특히', 1), ('더욱', 2), ('호불호', 1), ('갈리', 1), ('상점', 2), ('둘러보다', 1), ('패스', 2), ('완전', 1), ('읍니', 3), ('밀면', 1), ('지나가다', 2), ('애', 1), ('전부', 1), ('신뢰', 1), ('도약', 1), ('느리다', 1), ('터지다', 1), ('뛰어가다', 1), ('갑자기', 1), ('벽', 1), ('음', 2), ('어쌔신', 1), ('크리드', 1), ('시리즈', 1), ('암', 3), ('휴', 1), ('불친절하다', 1), ('어크', 1), ('입문', 1), ('용', 1), ('으로는', 1), ('커리어', 1), ('싱글', 1), ('위주', 2), ('입장', 3), ('에선', 1), ('산걸', 1), ('후회', 4), ('피파', 2), ('예', 1), ('흑우', 1), ('풀', 1), ('프라', 1), ('이스', 1), ('바치다', 1), ('사', 2), ('세용', 1), ('그리고', 5), ('포인트', 2), ('사지', 1), ('쇼', 1), ('현질', 1), ('끝', 3), ('없어지다', 2), ('질린다', 1), ('무', 1), ('과금', 2), ('얼티밋', 1), ('강', 2), ('추하다', 2), ('놈', 2), ('렉', 2), ('어쩔', 1), ('접다', 5), ('중반', 1), ('시스템', 4), ('상당하다', 1), ('시드', 1), ('권장', 1), ('끝없다', 1), ('연장', 1), ('영생', 1), ('꿈꾸다', 2), ('축', 1), ('피곤하다', 2), ('마인크래프트', 1), ('굳다', 1), ('앞', 2), ('으로도', 1), ('사후', 1), ('지원', 3), ('테라리아', 1), ('기준', 1), ('해도', 3), ('에서는', 2), ('복잡하다', 1), ('빡치다', 1), ('씻다', 1), ('어려워지다', 1), ('래전드', 1), ('뭐라다', 1), ('장점', 1), ('등가교환', 1), ('후속', 1), ('머드', 1), ('러너', 1), ('비교', 1), ('보', 1), ('여서', 3), ('오프로드', 2), ('미션', 1), ('뿌듯하다', 1), ('느끼다', 2), ('차갑다', 1), ('빠지다', 3), ('시원시원하다', 1), ('상남자', 1), ('부옼아옼앜앙', 1), ('진흙', 1), ('물', 1), ('바퀴', 1), ('ㅠㅠ', 1), ('겸손', 1), ('포기', 3), ('위험하다', 1), ('곳', 1), ('돌아가다', 2), ('라는', 1), ('배우다', 1), ('중도', 1), ('페이지', 1), ('한글', 5), ('아직도', 1), ('저장', 1), ('ㅆㅂ', 1), ('불필요하다', 1), ('똥겜', 4), ('최악', 1), ('조', 2), ('인터페이스', 2), ('덕분', 1), ('겜임', 1), ('허다', 1), ('생기다', 2), ('막상', 1), ('접', 1), ('존나쩌', 1), ('물의', 1), ('커마', 1), ('엘더스크롤', 1), ('이후', 3), ('나타나다', 1), ('법', 1), ('알', 3), ('맛있다', 1), ('대륙', 1), ('혼수상태', 1), ('신', 1), ('불구자', 1), ('일장춘몽', 1), ('언', 2), ('제나', 1), ('ㅅㅂ', 1), ('먹이다', 1), ('그러면', 1), ('당신', 1), ('어려움', 3), ('대한민국', 2), ('건축법', 1), ('규제', 1), ('정수기', 1), ('덫', 1), ('사실', 2), ('생존왕', 1), ('거머리', 1), ('꼬운', 1), ('방울뱀', 1), ('씨발련', 1), ('짱짱', 1), ('써다', 3), ('드럽다', 1), ('기만', 1), ('비싸다', 6), ('이거할빠', 1), ('나츠키', 1), ('감금', 1), ('생활', 1), ('애매하다', 1), ('인디언', 2), ('활', 1), ('여러가지', 2), ('스킬', 2), ('총기', 1), ('암살', 1), ('돌아보다', 1), ('외곽', 1), ('무기', 1), ('거래', 1), ('존재', 2), ('사용', 1), ('추후', 3), ('상상', 1), ('아예', 2), ('배경음', 1), ('무방', 1), ('음악', 2), ('정말로', 1), ('트레일러', 2), ('들어오다', 1), ('절대로', 1), ('반갑다', 1), ('까지는', 2), ('초기', 1), ('프레임', 1), ('소수', 1), ('마저도', 1), ('쓸모', 1), ('루즈', 1), ('진영', 2), ('개척', 1), ('서서', 1), ('원주민', 1), ('정복', 1), ('쪽', 1), ('에도', 1), ('들어가다', 3), ('독자', 1), ('항상', 1), ('사전', 1), ('중이', 1), ('지만', 2), ('모국어', 1), ('단어', 1), ('보완', 1), ('부합', 1), ('평점', 1), ('내리다', 1), ('가능성', 2), ('충분하다', 2), ('브금', 4), ('어딨다', 1), ('사운드', 4), ('빈약하다', 1), ('스카이림', 2), ('틀다', 1), ('심심하다', 1), ('트셈', 1), ('억', 1), ('스', 2), ('감안', 1), ('최신', 1), ('화려하다', 1), ('기대하다', 1), ('누군가', 2), ('언급', 1), ('어쌔신크리드', 1), ('전적', 1), ('랄', 1), ('시뮬레이션', 3), ('버', 1), ('무리다', 1), ('해', 1), ('거리', 1), ('늘', 1), ('만약', 1), ('그룹', 2), ('가입', 1), ('유일하다', 1), ('멀티플레이', 1), ('추구', 1), ('플', 3), ('보장', 1), ('때문', 7), ('사장', 1), ('ㅜㅜ', 1), ('전략', 3), ('시방', 1), ('전편', 2), ('뻥', 1), ('해봤다', 1), ('실력', 2), ('비슷하다', 1), ('개꿀', 1), ('째다', 1), ('ㅣ', 2), ('다운', 1), ('무대', 1), ('뒤지다', 1), ('솔직하다', 2), ('쉽다', 1), ('기전', 1), ('엔딩', 4), ('걱정', 1), ('보통', 2), ('공략', 3), ('알아내다', 1), ('바로바로', 1), ('리트', 1), ('라이', 1), ('결국', 1), ('꺠', 1), ('생각나다', 2), ('자꾸', 1), ('다이스', 1), ('섹시', 1), ('시점', 1), ('미치다', 1), ('인지', 2), ('땀', 2), ('그리다', 2), ('만화', 1), ('어리다', 1), ('문득', 1), ('오락실', 1), ('신나다', 1), ('왜', 1), ('어렴풋이', 1), ('애니메이터', 1), ('갈아', 1), ('넣다', 1), ('스프라이트', 1), ('재즈', 1), ('사운드트랙', 2), ('세기', 1), ('분위기', 1), ('살리다', 1), ('노력', 1), ('동시', 2), ('성도', 1), ('뛰어나다', 2), ('계', 1), ('교과서', 1), ('운빨', 1), ('망겜', 3), ('우승', 1), ('ㅠㅠㅠㅠㅠㅠㅠㅠㅠㅠ', 1), ('더없이', 1), ('암튼', 1), ('외국인', 1), ('덤', 2), ('막', 1), ('덱', 1), ('메이킹', 1), ('중요하다', 3), ('호밍빼', 1), ('하자', 2), ('이제', 1), ('언어', 2), ('다운로드', 1), ('지원이', 1), ('대박', 1), ('실망', 2), ('스럽다', 1), ('영', 1), ('어로', 1), ('맘', 1), ('편하다', 2), ('글', 1), ('작가', 1), ('개발자', 4), ('썻음', 1), ('조만간', 1), ('한국', 3), ('오브', 2), ('엑', 1), ('자일', 1), ('니나', 1), ('일가', 1), ('달러', 1), ('데드', 1), ('아일랜드', 1), ('일치', 1), ('썰다', 1), ('고기', 1), ('리메이크', 1), ('고치다', 1), ('좆망', 1), ('하나로', 1), ('어서', 1), ('개선', 1), ('좋아지다', 4), ('픽스', 1), ('난', 2), ('일이', 1), ('발생', 1), ('특수', 1), ('육', 1), ('잔인', 1), ('등장인물', 1), ('묻다', 1), ('구관', 1), ('명관', 1), ('거의', 1), ('년전', 1), ('오프닝', 1), ('영상', 3), ('그게', 1), ('다임', 1), ('코옵류', 1), ('에서의', 1), ('페넥여우', 1), ('너', 1), ('무쉬', 1), ('무서움', 1), ('로이', 1), ('준', 1), ('에너지', 2), ('소중하다', 1), ('선풍기', 1), ('계속', 2), ('목적', 2), ('잃어버리다', 1), ('옛날', 2), ('엄마', 1), ('등짝', 1), ('스매시', 1), ('공부', 1), ('찍다', 2), ('룸메', 1), ('고용', 1), ('부리다', 1), ('트렌드', 1), ('하이에나', 1), ('도시', 1), ('떠돌다', 1), ('제목', 1), ('사이버', 1), ('렉카', 1), ('라이프', 2), ('바꾸다', 1), ('님', 3), ('유튜브', 1), ('수가', 3), ('극', 1), ('고비', 1), ('겨울', 1), ('옛적', 1), ('쿠키', 1), ('샵', 1), ('위키', 1), ('랜드', 1), ('감성', 1), ('맛보다', 1), ('점', 1), ('외치다', 1), ('태산', 1), ('끼임', 1), ('대사', 2), ('멈추다', 1), ('이벤트', 1), ('어처구니', 1), ('웃기다', 1), ('또', 2), ('여', 1), ('차', 2), ('피해', 1), ('메인', 1), ('퀘', 1), ('사보다', 1), ('크게', 1), ('미비하다', 1), ('지속', 1), ('괴롭히다', 1), ('이며', 1), ('내용', 1), ('버무리', 1), ('희귀', 1), ('꼭', 4), ('바라다', 2), ('요약', 1), ('한게임', 1), ('여러', 1), ('연습', 1), ('각각', 1), ('퍼크별로', 1), ('능력', 1), ('재미나', 1), ('밸런스', 2), ('올', 2), ('리기', 1), ('과정', 1), ('안성맞춤', 1), ('어둑', 1), ('칙칙하다', 1), ('안대', 1), ('다가', 1), ('뒤늦다', 1), ('뛰어들다', 1), ('디펜스', 1), ('최고봉', 1), ('퍽', 1), ('직업', 1), ('역할', 1), ('세분', 1), ('화가', 1), ('활성화', 1), ('매너', 1), ('적응', 1), ('괜시리', 1), ('효용', 1), ('별로', 2), ('초보', 1), ('어색하다', 1), ('친해지다', 1), ('웃기', 1), ('재밋었음', 1), ('친목', 1), ('다지', 1), ('주먹', 1), ('다지다', 1), ('일석이조', 1), ('지인', 1), ('충', 1), ('격', 1), ('실', 1), ('친하다', 1), ('뻔', 1), ('저리', 1), ('퍼', 1), ('그러나', 1), ('인용', 1), ('협동', 1), ('질리', 1), ('올해', 1), ('훅', 1), ('보내다', 1), ('미지', 1), ('피드백', 2), ('자잘하다', 1), ('심각하다', 1), ('지장', 2), ('세이브', 1), ('이번', 2), ('패치', 2), ('옷', 1), ('튕김', 1), ('나이스', 1), ('농담', 1), ('삼만', 1), ('천원', 2), ('물어보다', 1), ('값', 1), ('챙기다', 1), ('인덱컨', 1), ('튜토리얼', 2), ('어메이징', 1), ('반', 2), ('논게임', 1), ('ㅋㅋㅋㅋㅋㅋ', 1), ('분노하다', 1), ('알릭스', 1), ('무난', 1), ('깻는데', 1), ('라이엇', 1), ('니깐', 1), ('존온', 1), ('쉬움', 12), ('약간', 1), ('스릴', 1), ('손가락', 2), ('자신', 1), ('굿', 1), ('모두', 1), ('평소', 1), ('범람', 1), ('단순하다', 1), ('무엇', 1), ('제품', 1), ('안해', 1), ('다잡다', 1), ('빛', 1), ('아름', 1), ('흥겜', 1), ('쿡드', 1), ('뭔들', 1), ('뇌절', 1), ('음식', 2), ('카페', 1), ('알바', 1), ('라면', 1), ('수도', 1), ('조심', 1), ('셈', 1), ('수준', 1), ('일해', 1), ('도저히', 1), ('ㄱㅊ', 1), ('은듯', 1), ('볼', 1), ('우선', 1), ('뭡', 1), ('캠페인', 1), ('컴', 1), ('짜다', 1), ('파스모', 1), ('보다는', 1), ('세부', 1), ('디테일', 1), ('최종', 1), ('목표', 1), ('귀신', 3), ('퇴치', 2), ('각자', 1), ('특징', 1), ('겉모습', 1), ('구별', 1), ('증거', 1), ('수행', 1), ('그때', 1), ('유용하다', 1), ('쓸다', 1), ('실행', 1), ('후', 2), ('까맣다', 1), ('화면', 1), ('가급적', 1), ('라도', 1), ('줫으', 1), ('무섭다', 1), ('첫', 1), ('다소', 1), ('부정', 1), ('코멘트', 1), ('주일', 1), ('분명하다', 1), ('타격', 1), ('피격', 1), ('명확하다', 1), ('차지', 1), ('액션', 1), ('강제', 1), ('스트레스', 1), ('자극', 1), ('남다', 1), ('비추다', 1), ('천하다', 1), ('런하', 1), ('불합리', 1), ('상황', 1), ('헤치다', 1), ('나가다', 1), ('의지', 1), ('한정', 1), ('보스', 2), ('싱겁다', 1), ('망자', 1), ('타이탄', 1), ('소울', 1), ('극한', 1), ('우기다', 1), ('넣기', 1), ('패턴', 1), ('반정', 1), ('의식', 1), ('불러일으키다', 1), ('미묘하다', 1), ('합리', 2), ('피하', 1), ('때리다', 1), ('딜로', 1), ('누르기', 1), ('튜터리얼', 2), ('직역', 1), ('직관', 1), ('완료', 1), ('투성이', 1), ('똥망', 1), ('개다', 1), ('안내', 1), ('구축함', 1), ('씨발', 1), ('십', 1), ('키', 2), ('동해', 1), ('일본해', 1), ('표기', 1), ('버그극', 1), ('혐', 1), ('소규모', 1), ('진수', 1), ('종족', 1), ('준수', 1), ('빅토리', 1), ('개념', 1), ('벗어나다', 1), ('참신하다', 1), ('조난', 1), ('도트', 1), ('주', 1), ('밌', 1), ('선', 1), ('발매', 1), ('아버지', 1), ('똥', 1), ('안사면', 1), ('관', 1), ('당장', 1)])\n"
          ]
        }
      ]
    },
    {
      "cell_type": "code",
      "metadata": {
        "id": "UsHlGUSepYHk",
        "colab": {
          "base_uri": "https://localhost:8080/"
        },
        "outputId": "bff25d0c-c714-4cc2-8493-184ef4b42a2e"
      },
      "source": [
        "threshold = 3\n",
        "total_cnt = len(tokenizer.word_index) # 단어의 수\n",
        "rare_cnt = 0 # 등장 빈도수가 threshold보다 작은 단어의 개수를 카운트\n",
        "total_freq = 0 # 훈련 데이터의 전체 단어 빈도수 총 합\n",
        "rare_freq = 0 # 등장 빈도수가 threshold보다 작은 단어의 등장 빈도수의 총 합\n",
        "\n",
        "# 단어와 빈도수의 쌍(pair)을 key와 value로 받는다.\n",
        "for key, value in tokenizer.word_counts.items():\n",
        "    total_freq = total_freq + value\n",
        "\n",
        "    # 단어의 등장 빈도수가 threshold보다 작으면\n",
        "    if(value < threshold):\n",
        "        rare_cnt = rare_cnt + 1\n",
        "        rare_freq = rare_freq + value\n",
        "\n",
        "print('단어 집합(vocabulary)의 크기 :',total_cnt)\n",
        "print('등장 빈도가 %s번 이하인 희귀 단어의 수: %s'%(threshold - 1, rare_cnt))\n",
        "print(\"단어 집합에서 희귀 단어의 비율:\", (rare_cnt / total_cnt)*100)\n",
        "print(\"전체 등장 빈도에서 희귀 단어 등장 빈도 비율:\", (rare_freq / total_freq)*100)"
      ],
      "execution_count": null,
      "outputs": [
        {
          "output_type": "stream",
          "name": "stdout",
          "text": [
            "단어 집합(vocabulary)의 크기 : 1621\n",
            "등장 빈도가 2번 이하인 희귀 단어의 수: 1249\n",
            "단어 집합에서 희귀 단어의 비율: 77.0512029611351\n",
            "전체 등장 빈도에서 희귀 단어 등장 빈도 비율: 33.72847237754417\n"
          ]
        }
      ]
    },
    {
      "cell_type": "code",
      "metadata": {
        "id": "yWBE_pZlszWu",
        "colab": {
          "base_uri": "https://localhost:8080/"
        },
        "outputId": "e4087f4f-0629-4f87-83d3-1022e270d547"
      },
      "source": [
        "vocab_size = total_cnt - rare_cnt + 1\n",
        "print('단어 집합의 크기 :',vocab_size)"
      ],
      "execution_count": null,
      "outputs": [
        {
          "output_type": "stream",
          "name": "stdout",
          "text": [
            "단어 집합의 크기 : 373\n"
          ]
        }
      ]
    },
    {
      "cell_type": "code",
      "metadata": {
        "id": "pFPM7drbqGEz"
      },
      "source": [
        "tokenizer = Tokenizer(vocab_size) # 빈도수 2 이하인 단어는 제거\n",
        "tokenizer.fit_on_texts(X_train)\n",
        "X_train = tokenizer.texts_to_sequences(X_train)\n",
        "X_test = tokenizer.texts_to_sequences(X_test)"
      ],
      "execution_count": null,
      "outputs": []
    },
    {
      "cell_type": "code",
      "metadata": {
        "id": "9pAvQvpo_Acb"
      },
      "source": [
        "y_train = np.array(train_data['po/na'])\n",
        "y_test = np.array(test_data['po/na'])"
      ],
      "execution_count": null,
      "outputs": []
    },
    {
      "cell_type": "code",
      "metadata": {
        "id": "MGCTzFOJ_tpC",
        "colab": {
          "base_uri": "https://localhost:8080/"
        },
        "outputId": "c9970394-6038-44c7-9285-0c8c8005a0c7"
      },
      "source": [
        "print(len(X_train))\n",
        "print(len(y_train))"
      ],
      "execution_count": null,
      "outputs": [
        {
          "output_type": "stream",
          "name": "stdout",
          "text": [
            "500\n",
            "500\n"
          ]
        }
      ]
    },
    {
      "cell_type": "code",
      "metadata": {
        "id": "T-jxCOg4ra7i",
        "colab": {
          "base_uri": "https://localhost:8080/"
        },
        "outputId": "98e00ea8-002c-4306-ff58-3eeaa7d312b0"
      },
      "source": [
        "print(X_train[:3])"
      ],
      "execution_count": null,
      "outputs": [
        {
          "output_type": "stream",
          "name": "stdout",
          "text": [
            "[[6, 191, 191], [1, 80, 45, 25, 114, 25, 248, 191, 2, 249, 9, 192, 147, 68, 11, 147, 12, 115], [116, 4, 21, 3, 33]]\n"
          ]
        }
      ]
    },
    {
      "cell_type": "code",
      "metadata": {
        "id": "M_k8SQCH9BLY"
      },
      "source": [
        "drop_train = [index for index, sentence in enumerate(X_train) if len(sentence) < 1]\n",
        "drop_test = [index for index, sentence in enumerate(X_test) if len(sentence) < 1]"
      ],
      "execution_count": null,
      "outputs": []
    },
    {
      "cell_type": "code",
      "metadata": {
        "id": "Aq_nvde69G-n",
        "colab": {
          "base_uri": "https://localhost:8080/"
        },
        "outputId": "17f884d0-b7c0-499f-80b6-ec4bd126d04b"
      },
      "source": [
        "print(drop_train)"
      ],
      "execution_count": null,
      "outputs": [
        {
          "output_type": "stream",
          "name": "stdout",
          "text": [
            "[46, 200, 251, 268, 297, 306, 363, 443]\n"
          ]
        }
      ]
    },
    {
      "cell_type": "code",
      "metadata": {
        "id": "G-iV5ZGw9Luf",
        "colab": {
          "base_uri": "https://localhost:8080/"
        },
        "outputId": "fb6a63f9-b23e-4334-86c1-e064bf0ae825"
      },
      "source": [
        "len(drop_train)"
      ],
      "execution_count": null,
      "outputs": [
        {
          "output_type": "execute_result",
          "data": {
            "text/plain": [
              "8"
            ]
          },
          "metadata": {},
          "execution_count": 43
        }
      ]
    },
    {
      "cell_type": "code",
      "metadata": {
        "id": "AwHbwYxP9NN9",
        "colab": {
          "base_uri": "https://localhost:8080/"
        },
        "outputId": "ffe10d3c-9b20-4813-b01c-33926081d5e6"
      },
      "source": [
        "X_train = np.delete(X_train, drop_train, axis=0)\n",
        "y_train = np.delete(y_train, drop_train, axis=0)"
      ],
      "execution_count": null,
      "outputs": [
        {
          "output_type": "stream",
          "name": "stderr",
          "text": [
            "/usr/local/lib/python3.7/dist-packages/numpy/core/_asarray.py:83: VisibleDeprecationWarning: Creating an ndarray from ragged nested sequences (which is a list-or-tuple of lists-or-tuples-or ndarrays with different lengths or shapes) is deprecated. If you meant to do this, you must specify 'dtype=object' when creating the ndarray\n",
            "  return array(a, dtype, copy=False, order=order)\n"
          ]
        }
      ]
    },
    {
      "cell_type": "code",
      "metadata": {
        "id": "s3YMzyGM_DAf",
        "colab": {
          "base_uri": "https://localhost:8080/"
        },
        "outputId": "506a7ea9-63ad-4c39-acc3-117044563f8a"
      },
      "source": [
        "print(len(X_train))\n",
        "print(len(y_train))"
      ],
      "execution_count": null,
      "outputs": [
        {
          "output_type": "stream",
          "name": "stdout",
          "text": [
            "492\n",
            "492\n"
          ]
        }
      ]
    },
    {
      "cell_type": "code",
      "metadata": {
        "id": "yqRWvf59J-Tk",
        "colab": {
          "base_uri": "https://localhost:8080/"
        },
        "outputId": "a8bed843-ae4b-4ed5-942c-4962a9844efd"
      },
      "source": [
        "print(len(X_test))\n",
        "print(len(y_test))"
      ],
      "execution_count": null,
      "outputs": [
        {
          "output_type": "stream",
          "name": "stdout",
          "text": [
            "296\n",
            "296\n"
          ]
        }
      ]
    },
    {
      "cell_type": "code",
      "metadata": {
        "id": "B7A7iBA0KBpR",
        "colab": {
          "base_uri": "https://localhost:8080/"
        },
        "outputId": "d14fc467-b7f1-4f62-9984-e59101a3fc34"
      },
      "source": [
        "X_test = np.delete(X_test, drop_test, axis=0)"
      ],
      "execution_count": null,
      "outputs": [
        {
          "output_type": "stream",
          "name": "stderr",
          "text": [
            "/usr/local/lib/python3.7/dist-packages/numpy/core/_asarray.py:83: VisibleDeprecationWarning: Creating an ndarray from ragged nested sequences (which is a list-or-tuple of lists-or-tuples-or ndarrays with different lengths or shapes) is deprecated. If you meant to do this, you must specify 'dtype=object' when creating the ndarray\n",
            "  return array(a, dtype, copy=False, order=order)\n"
          ]
        }
      ]
    },
    {
      "cell_type": "code",
      "metadata": {
        "id": "FPUtE1I6N40N"
      },
      "source": [
        "y_test = np.delete(y_test, drop_test, axis=0)"
      ],
      "execution_count": null,
      "outputs": []
    },
    {
      "cell_type": "code",
      "metadata": {
        "id": "y1mB7XX_KF09",
        "colab": {
          "base_uri": "https://localhost:8080/"
        },
        "outputId": "780356c5-51c6-4cbc-ba63-aaf06b4577f5"
      },
      "source": [
        "print(len(X_test))\n",
        "print(len(y_test))"
      ],
      "execution_count": null,
      "outputs": [
        {
          "output_type": "stream",
          "name": "stdout",
          "text": [
            "279\n",
            "279\n"
          ]
        }
      ]
    },
    {
      "cell_type": "code",
      "metadata": {
        "id": "j6kcy8AKreKv",
        "colab": {
          "base_uri": "https://localhost:8080/",
          "height": 316
        },
        "outputId": "2e2ea1e9-5da4-4682-c5c3-046ca48b5c48"
      },
      "source": [
        "print('리뷰의 최대 길이 :',max(len(l) for l in X_train))\n",
        "print('리뷰의 평균 길이 :',sum(map(len, X_train))/len(X_train))\n",
        "plt.hist([len(s) for s in X_train], bins=50)\n",
        "plt.xlabel('length of samples')\n",
        "plt.ylabel('number of samples')\n",
        "plt.show()"
      ],
      "execution_count": null,
      "outputs": [
        {
          "output_type": "stream",
          "name": "stdout",
          "text": [
            "리뷰의 최대 길이 : 36\n",
            "리뷰의 평균 길이 : 6.022357723577236\n"
          ]
        },
        {
          "output_type": "display_data",
          "data": {
            "image/png": "[encoded data removed]",
            "text/plain": [
              "<Figure size 432x288 with 1 Axes>"
            ]
          },
          "metadata": {
            "needs_background": "light"
          }
        }
      ]
    },
    {
      "cell_type": "code",
      "metadata": {
        "id": "yFDDvQy2FlZK"
      },
      "source": [
        "def below_threshold_len(max_len, nested_list):\n",
        "  cnt = 0\n",
        "  for s in nested_list:\n",
        "    if(len(s) <= max_len):\n",
        "        cnt = cnt + 1\n",
        "  print('전체 샘플 중 길이가 %s 이하인 샘플의 비율: %s'%(max_len, (cnt / len(nested_list))*100))"
      ],
      "execution_count": null,
      "outputs": []
    },
    {
      "cell_type": "code",
      "metadata": {
        "id": "x0njO96tFw1f",
        "colab": {
          "base_uri": "https://localhost:8080/"
        },
        "outputId": "da23e10a-e09b-45dc-cd44-ee41b5d2903a"
      },
      "source": [
        "max_len = 30\n",
        "below_threshold_len(max_len, X_train)"
      ],
      "execution_count": null,
      "outputs": [
        {
          "output_type": "stream",
          "name": "stdout",
          "text": [
            "전체 샘플 중 길이가 30 이하인 샘플의 비율: 100.0\n"
          ]
        }
      ]
    },
    {
      "cell_type": "code",
      "metadata": {
        "id": "iIgJvzh2rhug"
      },
      "source": [
        "# 전체 데이터의 길이는 30으로 맞춘다.\n",
        "X_train = pad_sequences(X_train, maxlen = max_len)\n",
        "X_test = pad_sequences(X_test, maxlen = max_len)"
      ],
      "execution_count": null,
      "outputs": []
    },
    {
      "cell_type": "markdown",
      "source": [
        "# 2. LSTM으로 네이버 영화 리뷰 감성 분류하기"
      ],
      "metadata": {
        "id": "FtGXGgP2bua5"
      }
    },
    {
      "cell_type": "code",
      "metadata": {
        "id": "NColEfDn5C_K"
      },
      "source": [
        "from tensorflow.keras.layers import Embedding, Dense, LSTM\n",
        "from tensorflow.keras.models import Sequential\n",
        "from tensorflow.keras.models import load_model\n",
        "from tensorflow.keras.callbacks import EarlyStopping, ModelCheckpoint"
      ],
      "execution_count": null,
      "outputs": []
    },
    {
      "cell_type": "code",
      "metadata": {
        "id": "3aGOyv985GYH"
      },
      "source": [
        "es = EarlyStopping(monitor='val_loss', mode='min', verbose=1, patience=4)\n",
        "mc = ModelCheckpoint('best_model.h5', monitor='val_acc', mode='max', verbose=1, save_best_only=True)"
      ],
      "execution_count": null,
      "outputs": []
    },
    {
      "cell_type": "code",
      "metadata": {
        "id": "B6nEH8bdvzFt"
      },
      "source": [
        "model = Sequential()\n",
        "model.add(Embedding(vocab_size, 100))\n",
        "model.add(LSTM(128))\n",
        "model.add(Dense(1, activation='sigmoid'))"
      ],
      "execution_count": null,
      "outputs": []
    },
    {
      "cell_type": "code",
      "metadata": {
        "id": "7SHHUilxFB3Z",
        "colab": {
          "base_uri": "https://localhost:8080/"
        },
        "outputId": "2a2961e4-dd69-4811-c915-00b89d4cef70"
      },
      "source": [
        "model.compile(optimizer='rmsprop', loss='binary_crossentropy', metrics=['acc'])\n",
        "history = model.fit(X_train, y_train, epochs=15, callbacks=[es, mc], batch_size=64, validation_split=0.1)"
      ],
      "execution_count": null,
      "outputs": [
        {
          "output_type": "stream",
          "name": "stdout",
          "text": [
            "Epoch 1/15\n",
            "5/7 [====================>.........] - ETA: 0s - loss: 0.6821 - acc: 0.5531 \n",
            "Epoch 00001: val_acc improved from -inf to 0.64000, saving model to best_model.h5\n",
            "7/7 [==============================] - 4s 171ms/step - loss: 0.6714 - acc: 0.6041 - val_loss: 0.6469 - val_acc: 0.6400\n",
            "Epoch 2/15\n",
            "5/7 [====================>.........] - ETA: 0s - loss: 0.6236 - acc: 0.6781\n",
            "Epoch 00002: val_acc did not improve from 0.64000\n",
            "7/7 [==============================] - 0s 19ms/step - loss: 0.6310 - acc: 0.6606 - val_loss: 0.6362 - val_acc: 0.6400\n",
            "Epoch 3/15\n",
            "5/7 [====================>.........] - ETA: 0s - loss: 0.6210 - acc: 0.6469\n",
            "Epoch 00003: val_acc did not improve from 0.64000\n",
            "7/7 [==============================] - 0s 18ms/step - loss: 0.6108 - acc: 0.6674 - val_loss: 0.6232 - val_acc: 0.6400\n",
            "Epoch 4/15\n",
            "5/7 [====================>.........] - ETA: 0s - loss: 0.5719 - acc: 0.6750\n",
            "Epoch 00004: val_acc did not improve from 0.64000\n",
            "7/7 [==============================] - 0s 19ms/step - loss: 0.5740 - acc: 0.6742 - val_loss: 0.5955 - val_acc: 0.6400\n",
            "Epoch 5/15\n",
            "5/7 [====================>.........] - ETA: 0s - loss: 0.5209 - acc: 0.7000\n",
            "Epoch 00005: val_acc improved from 0.64000 to 0.68000, saving model to best_model.h5\n",
            "7/7 [==============================] - 0s 21ms/step - loss: 0.5176 - acc: 0.7036 - val_loss: 0.5624 - val_acc: 0.6800\n",
            "Epoch 6/15\n",
            "5/7 [====================>.........] - ETA: 0s - loss: 0.4795 - acc: 0.7437\n",
            "Epoch 00006: val_acc improved from 0.68000 to 0.74000, saving model to best_model.h5\n",
            "7/7 [==============================] - 0s 22ms/step - loss: 0.4780 - acc: 0.7760 - val_loss: 0.5469 - val_acc: 0.7400\n",
            "Epoch 7/15\n",
            "5/7 [====================>.........] - ETA: 0s - loss: 0.4118 - acc: 0.8750\n",
            "Epoch 00007: val_acc improved from 0.74000 to 0.76000, saving model to best_model.h5\n",
            "7/7 [==============================] - 0s 21ms/step - loss: 0.4128 - acc: 0.8529 - val_loss: 0.5264 - val_acc: 0.7600\n",
            "Epoch 8/15\n",
            "6/7 [========================>.....] - ETA: 0s - loss: 0.3720 - acc: 0.8594\n",
            "Epoch 00008: val_acc did not improve from 0.76000\n",
            "7/7 [==============================] - 0s 17ms/step - loss: 0.3630 - acc: 0.8665 - val_loss: 0.5284 - val_acc: 0.7400\n",
            "Epoch 9/15\n",
            "5/7 [====================>.........] - ETA: 0s - loss: 0.3264 - acc: 0.8719\n",
            "Epoch 00009: val_acc did not improve from 0.76000\n",
            "7/7 [==============================] - 0s 19ms/step - loss: 0.3284 - acc: 0.8778 - val_loss: 0.5259 - val_acc: 0.7600\n",
            "Epoch 10/15\n",
            "5/7 [====================>.........] - ETA: 0s - loss: 0.2946 - acc: 0.9062\n",
            "Epoch 00010: val_acc did not improve from 0.76000\n",
            "7/7 [==============================] - 0s 17ms/step - loss: 0.2888 - acc: 0.9095 - val_loss: 0.5864 - val_acc: 0.7200\n",
            "Epoch 11/15\n",
            "5/7 [====================>.........] - ETA: 0s - loss: 0.2622 - acc: 0.9062\n",
            "Epoch 00011: val_acc did not improve from 0.76000\n",
            "7/7 [==============================] - 0s 18ms/step - loss: 0.2738 - acc: 0.9005 - val_loss: 0.5595 - val_acc: 0.7600\n",
            "Epoch 12/15\n",
            "6/7 [========================>.....] - ETA: 0s - loss: 0.2487 - acc: 0.9193\n",
            "Epoch 00012: val_acc improved from 0.76000 to 0.80000, saving model to best_model.h5\n",
            "7/7 [==============================] - 0s 21ms/step - loss: 0.2476 - acc: 0.9208 - val_loss: 0.5876 - val_acc: 0.8000\n",
            "Epoch 13/15\n",
            "5/7 [====================>.........] - ETA: 0s - loss: 0.2572 - acc: 0.8969\n",
            "Epoch 00013: val_acc did not improve from 0.80000\n",
            "7/7 [==============================] - 0s 17ms/step - loss: 0.2432 - acc: 0.9095 - val_loss: 0.5781 - val_acc: 0.7400\n",
            "Epoch 00013: early stopping\n"
          ]
        }
      ]
    },
    {
      "cell_type": "code",
      "metadata": {
        "id": "Iva8x8Gr-W7w"
      },
      "source": [
        "loaded_model = load_model('best_model.h5')"
      ],
      "execution_count": null,
      "outputs": []
    },
    {
      "cell_type": "code",
      "metadata": {
        "id": "eOenyOoS_Qt5",
        "colab": {
          "base_uri": "https://localhost:8080/"
        },
        "outputId": "9c89e65f-5377-48e3-92d2-56995afae02d"
      },
      "source": [
        "print(\"\\n 테스트 정확도: %.4f\" % (loaded_model.evaluate(X_test, y_test)[1]))"
      ],
      "execution_count": null,
      "outputs": [
        {
          "output_type": "stream",
          "name": "stdout",
          "text": [
            "9/9 [==============================] - 1s 5ms/step - loss: 0.6592 - acc: 0.6918\n",
            "\n",
            " 테스트 정확도: 0.6918\n"
          ]
        }
      ]
    },
    {
      "cell_type": "markdown",
      "source": [
        "# 3. 리뷰 예측해보기"
      ],
      "metadata": {
        "id": "ucyY3JVpbwxK"
      }
    },
    {
      "cell_type": "code",
      "metadata": {
        "id": "vbvk5X3PPExa"
      },
      "source": [
        "def sentiment_predict(new_sentence):\n",
        "  new_sentence = re.sub(r'[^ㄱ-ㅎㅏ-ㅣ가-힣 ]','', new_sentence)\n",
        "  new_sentence = okt.morphs(new_sentence, stem=True) # 토큰화\n",
        "  new_sentence = [word for word in new_sentence if not word in stopwords] # 불용어 제거\n",
        "  encoded = tokenizer.texts_to_sequences([new_sentence]) # 정수 인코딩\n",
        "  pad_new = pad_sequences(encoded, maxlen = max_len) # 패딩\n",
        "  score = float(loaded_model.predict(pad_new)) # 예측\n",
        "  if(score > 0.5):\n",
        "    print(\"{:.2f}% 확률로 긍정 리뷰입니다.\\n\".format(score * 100))\n",
        "  else:\n",
        "    print(\"{:.2f}% 확률로 부정 리뷰입니다.\\n\".format((1 - score) * 100))"
      ],
      "execution_count": null,
      "outputs": []
    },
    {
      "cell_type": "code",
      "metadata": {
        "colab": {
          "base_uri": "https://localhost:8080/"
        },
        "id": "tFC0qDlO28Zg",
        "outputId": "ce392428-f68b-4d7f-db3d-d0966631cea6"
      },
      "source": [
        "sentiment_predict('개재밌음')"
      ],
      "execution_count": null,
      "outputs": [
        {
          "output_type": "stream",
          "name": "stdout",
          "text": [
            "85.43% 확률로 긍정 리뷰입니다.\n",
            "\n"
          ]
        }
      ]
    },
    {
      "cell_type": "code",
      "metadata": {
        "colab": {
          "base_uri": "https://localhost:8080/"
        },
        "id": "s4v-MwEB29Vk",
        "outputId": "8282b222-f65e-468d-c4d4-12c3a8c43ca7"
      },
      "source": [
        "sentiment_predict('이 영화 핵노잼 ㅠㅠ')"
      ],
      "execution_count": null,
      "outputs": [
        {
          "output_type": "stream",
          "name": "stdout",
          "text": [
            "80.14% 확률로 부정 리뷰입니다.\n",
            "\n"
          ]
        }
      ]
    },
    {
      "cell_type": "code",
      "metadata": {
        "colab": {
          "base_uri": "https://localhost:8080/"
        },
        "id": "ybiSO0142-oc",
        "outputId": "15f72e27-ffb8-49d8-920b-836c3971f3b0"
      },
      "source": [
        "sentiment_predict('돈아까움')"
      ],
      "execution_count": null,
      "outputs": [
        {
          "output_type": "stream",
          "name": "stdout",
          "text": [
            "66.56% 확률로 부정 리뷰입니다.\n",
            "\n"
          ]
        }
      ]
    },
    {
      "cell_type": "code",
      "metadata": {
        "colab": {
          "base_uri": "https://localhost:8080/"
        },
        "id": "8O25qZvf3Ao8",
        "outputId": "15bf5b87-7e5a-4b48-fd88-45534cf3665f"
      },
      "source": [
        "sentiment_predict('노잼')"
      ],
      "execution_count": null,
      "outputs": [
        {
          "output_type": "stream",
          "name": "stdout",
          "text": [
            "59.29% 확률로 부정 리뷰입니다.\n",
            "\n"
          ]
        }
      ]
    },
    {
      "cell_type": "code",
      "metadata": {
        "colab": {
          "base_uri": "https://localhost:8080/"
        },
        "id": "zqLrvLSs3BgE",
        "outputId": "6a1e2278-ab24-4471-b069-1d08c12658e1"
      },
      "source": [
        "sentiment_predict('정말 재밌어요')"
      ],
      "execution_count": null,
      "outputs": [
        {
          "output_type": "stream",
          "name": "stdout",
          "text": [
            "95.00% 확률로 긍정 리뷰입니다.\n",
            "\n"
          ]
        }
      ]
    }
  ]
}